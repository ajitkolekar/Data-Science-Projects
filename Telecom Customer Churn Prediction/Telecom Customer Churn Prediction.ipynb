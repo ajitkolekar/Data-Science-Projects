{
 "cells": [
  {
   "cell_type": "markdown",
   "metadata": {},
   "source": [
    "Ajit Kolekar\n",
    "Telecom Customer Churn Prediction"
   ]
  },
  {
   "cell_type": "code",
   "execution_count": 1,
   "metadata": {},
   "outputs": [],
   "source": [
    "# Load Necessary Libraries\n",
    "import pandas as pd\n",
    "import numpy as np\n",
    "import seaborn as sns\n",
    "import matplotlib.pyplot as plt\n",
    "%matplotlib inline"
   ]
  },
  {
   "cell_type": "code",
   "execution_count": 2,
   "metadata": {},
   "outputs": [],
   "source": [
    "# Read the data from csv file into data frame\n",
    "df = pd.read_csv('Customer-Churn.csv')"
   ]
  },
  {
   "cell_type": "code",
   "execution_count": 3,
   "metadata": {},
   "outputs": [
    {
     "data": {
      "text/html": [
       "<div>\n",
       "<style scoped>\n",
       "    .dataframe tbody tr th:only-of-type {\n",
       "        vertical-align: middle;\n",
       "    }\n",
       "\n",
       "    .dataframe tbody tr th {\n",
       "        vertical-align: top;\n",
       "    }\n",
       "\n",
       "    .dataframe thead th {\n",
       "        text-align: right;\n",
       "    }\n",
       "</style>\n",
       "<table border=\"1\" class=\"dataframe\">\n",
       "  <thead>\n",
       "    <tr style=\"text-align: right;\">\n",
       "      <th></th>\n",
       "      <th>customerID</th>\n",
       "      <th>gender</th>\n",
       "      <th>SeniorCitizen</th>\n",
       "      <th>Partner</th>\n",
       "      <th>Dependents</th>\n",
       "      <th>tenure</th>\n",
       "      <th>PhoneService</th>\n",
       "      <th>MultipleLines</th>\n",
       "      <th>InternetService</th>\n",
       "      <th>OnlineSecurity</th>\n",
       "      <th>...</th>\n",
       "      <th>DeviceProtection</th>\n",
       "      <th>TechSupport</th>\n",
       "      <th>StreamingTV</th>\n",
       "      <th>StreamingMovies</th>\n",
       "      <th>Contract</th>\n",
       "      <th>PaperlessBilling</th>\n",
       "      <th>PaymentMethod</th>\n",
       "      <th>MonthlyCharges</th>\n",
       "      <th>TotalCharges</th>\n",
       "      <th>Churn</th>\n",
       "    </tr>\n",
       "  </thead>\n",
       "  <tbody>\n",
       "    <tr>\n",
       "      <th>0</th>\n",
       "      <td>7590-VHVEG</td>\n",
       "      <td>Female</td>\n",
       "      <td>0</td>\n",
       "      <td>Yes</td>\n",
       "      <td>No</td>\n",
       "      <td>1</td>\n",
       "      <td>No</td>\n",
       "      <td>No phone service</td>\n",
       "      <td>DSL</td>\n",
       "      <td>No</td>\n",
       "      <td>...</td>\n",
       "      <td>No</td>\n",
       "      <td>No</td>\n",
       "      <td>No</td>\n",
       "      <td>No</td>\n",
       "      <td>Month-to-month</td>\n",
       "      <td>Yes</td>\n",
       "      <td>Electronic check</td>\n",
       "      <td>29.85</td>\n",
       "      <td>29.85</td>\n",
       "      <td>No</td>\n",
       "    </tr>\n",
       "    <tr>\n",
       "      <th>1</th>\n",
       "      <td>5575-GNVDE</td>\n",
       "      <td>Male</td>\n",
       "      <td>0</td>\n",
       "      <td>No</td>\n",
       "      <td>No</td>\n",
       "      <td>34</td>\n",
       "      <td>Yes</td>\n",
       "      <td>No</td>\n",
       "      <td>DSL</td>\n",
       "      <td>Yes</td>\n",
       "      <td>...</td>\n",
       "      <td>Yes</td>\n",
       "      <td>No</td>\n",
       "      <td>No</td>\n",
       "      <td>No</td>\n",
       "      <td>One year</td>\n",
       "      <td>No</td>\n",
       "      <td>Mailed check</td>\n",
       "      <td>56.95</td>\n",
       "      <td>1889.5</td>\n",
       "      <td>No</td>\n",
       "    </tr>\n",
       "    <tr>\n",
       "      <th>2</th>\n",
       "      <td>3668-QPYBK</td>\n",
       "      <td>Male</td>\n",
       "      <td>0</td>\n",
       "      <td>No</td>\n",
       "      <td>No</td>\n",
       "      <td>2</td>\n",
       "      <td>Yes</td>\n",
       "      <td>No</td>\n",
       "      <td>DSL</td>\n",
       "      <td>Yes</td>\n",
       "      <td>...</td>\n",
       "      <td>No</td>\n",
       "      <td>No</td>\n",
       "      <td>No</td>\n",
       "      <td>No</td>\n",
       "      <td>Month-to-month</td>\n",
       "      <td>Yes</td>\n",
       "      <td>Mailed check</td>\n",
       "      <td>53.85</td>\n",
       "      <td>108.15</td>\n",
       "      <td>Yes</td>\n",
       "    </tr>\n",
       "    <tr>\n",
       "      <th>3</th>\n",
       "      <td>7795-CFOCW</td>\n",
       "      <td>Male</td>\n",
       "      <td>0</td>\n",
       "      <td>No</td>\n",
       "      <td>No</td>\n",
       "      <td>45</td>\n",
       "      <td>No</td>\n",
       "      <td>No phone service</td>\n",
       "      <td>DSL</td>\n",
       "      <td>Yes</td>\n",
       "      <td>...</td>\n",
       "      <td>Yes</td>\n",
       "      <td>Yes</td>\n",
       "      <td>No</td>\n",
       "      <td>No</td>\n",
       "      <td>One year</td>\n",
       "      <td>No</td>\n",
       "      <td>Bank transfer (automatic)</td>\n",
       "      <td>42.30</td>\n",
       "      <td>1840.75</td>\n",
       "      <td>No</td>\n",
       "    </tr>\n",
       "    <tr>\n",
       "      <th>4</th>\n",
       "      <td>9237-HQITU</td>\n",
       "      <td>Female</td>\n",
       "      <td>0</td>\n",
       "      <td>No</td>\n",
       "      <td>No</td>\n",
       "      <td>2</td>\n",
       "      <td>Yes</td>\n",
       "      <td>No</td>\n",
       "      <td>Fiber optic</td>\n",
       "      <td>No</td>\n",
       "      <td>...</td>\n",
       "      <td>No</td>\n",
       "      <td>No</td>\n",
       "      <td>No</td>\n",
       "      <td>No</td>\n",
       "      <td>Month-to-month</td>\n",
       "      <td>Yes</td>\n",
       "      <td>Electronic check</td>\n",
       "      <td>70.70</td>\n",
       "      <td>151.65</td>\n",
       "      <td>Yes</td>\n",
       "    </tr>\n",
       "  </tbody>\n",
       "</table>\n",
       "<p>5 rows × 21 columns</p>\n",
       "</div>"
      ],
      "text/plain": [
       "   customerID  gender  SeniorCitizen Partner Dependents  tenure PhoneService  \\\n",
       "0  7590-VHVEG  Female              0     Yes         No       1           No   \n",
       "1  5575-GNVDE    Male              0      No         No      34          Yes   \n",
       "2  3668-QPYBK    Male              0      No         No       2          Yes   \n",
       "3  7795-CFOCW    Male              0      No         No      45           No   \n",
       "4  9237-HQITU  Female              0      No         No       2          Yes   \n",
       "\n",
       "      MultipleLines InternetService OnlineSecurity  ... DeviceProtection  \\\n",
       "0  No phone service             DSL             No  ...               No   \n",
       "1                No             DSL            Yes  ...              Yes   \n",
       "2                No             DSL            Yes  ...               No   \n",
       "3  No phone service             DSL            Yes  ...              Yes   \n",
       "4                No     Fiber optic             No  ...               No   \n",
       "\n",
       "  TechSupport StreamingTV StreamingMovies        Contract PaperlessBilling  \\\n",
       "0          No          No              No  Month-to-month              Yes   \n",
       "1          No          No              No        One year               No   \n",
       "2          No          No              No  Month-to-month              Yes   \n",
       "3         Yes          No              No        One year               No   \n",
       "4          No          No              No  Month-to-month              Yes   \n",
       "\n",
       "               PaymentMethod MonthlyCharges  TotalCharges Churn  \n",
       "0           Electronic check          29.85         29.85    No  \n",
       "1               Mailed check          56.95        1889.5    No  \n",
       "2               Mailed check          53.85        108.15   Yes  \n",
       "3  Bank transfer (automatic)          42.30       1840.75    No  \n",
       "4           Electronic check          70.70        151.65   Yes  \n",
       "\n",
       "[5 rows x 21 columns]"
      ]
     },
     "execution_count": 3,
     "metadata": {},
     "output_type": "execute_result"
    }
   ],
   "source": [
    "# Check the first few rows of the data frame to make sure data is read correctly\n",
    "df.head()"
   ]
  },
  {
   "cell_type": "code",
   "execution_count": 4,
   "metadata": {},
   "outputs": [
    {
     "data": {
      "text/plain": [
       "(7043, 21)"
      ]
     },
     "execution_count": 4,
     "metadata": {},
     "output_type": "execute_result"
    }
   ],
   "source": [
    "# Check the shape of the data frame\n",
    "df.shape"
   ]
  },
  {
   "cell_type": "markdown",
   "metadata": {},
   "source": [
    "### Data Cleansing"
   ]
  },
  {
   "cell_type": "code",
   "execution_count": 5,
   "metadata": {},
   "outputs": [
    {
     "data": {
      "text/plain": [
       "customerID           object\n",
       "gender               object\n",
       "SeniorCitizen         int64\n",
       "Partner              object\n",
       "Dependents           object\n",
       "tenure                int64\n",
       "PhoneService         object\n",
       "MultipleLines        object\n",
       "InternetService      object\n",
       "OnlineSecurity       object\n",
       "OnlineBackup         object\n",
       "DeviceProtection     object\n",
       "TechSupport          object\n",
       "StreamingTV          object\n",
       "StreamingMovies      object\n",
       "Contract             object\n",
       "PaperlessBilling     object\n",
       "PaymentMethod        object\n",
       "MonthlyCharges      float64\n",
       "TotalCharges         object\n",
       "Churn                object\n",
       "dtype: object"
      ]
     },
     "execution_count": 5,
     "metadata": {},
     "output_type": "execute_result"
    }
   ],
   "source": [
    "# Check the data types of the variables\n",
    "df.dtypes"
   ]
  },
  {
   "cell_type": "code",
   "execution_count": 6,
   "metadata": {},
   "outputs": [],
   "source": [
    "# Change gender variable to numeric: 0 for Female and 1 for Male\n",
    "df.gender= df.gender.apply(lambda x: 1 if x=='Male' else 0)"
   ]
  },
  {
   "cell_type": "code",
   "execution_count": 7,
   "metadata": {},
   "outputs": [],
   "source": [
    "# Change Partner, Dependents, PhoneService, PaperlessBilling, and Churn variables to Numeric: 0 for No and 1 for Yes\n",
    "df.Partner= df.Partner.apply(lambda x: 1 if x=='Yes' else 0)\n",
    "df.Dependents= df.Dependents.apply(lambda x: 1 if x=='Yes' else 0)\n",
    "df.PhoneService= df.PhoneService.apply(lambda x: 1 if x=='Yes' else 0)\n",
    "df.PaperlessBilling= df.PaperlessBilling.apply(lambda x: 1 if x=='Yes' else 0)\n",
    "df.Churn= df.Churn.apply(lambda x: 1 if x=='Yes' else 0)"
   ]
  },
  {
   "cell_type": "code",
   "execution_count": 8,
   "metadata": {},
   "outputs": [],
   "source": [
    "# Change MultipleLines variable to Numeric: 0 for No, 0 for No Phone, and 1 for Yes\n",
    "df.MultipleLines= df.MultipleLines.apply(lambda x: 1 if x=='Yes' else 0)"
   ]
  },
  {
   "cell_type": "code",
   "execution_count": 9,
   "metadata": {},
   "outputs": [],
   "source": [
    "# Change OnlineSecurity, OnlineBackup, DeviceProtection, TechSupport, StreamingTV, and StreamingMovies\n",
    "# variables to Numeric: 0 for No, 0 for No internet service, and 1 for Yes\n",
    "df.OnlineSecurity= df.OnlineSecurity.apply(lambda x: 1 if x=='Yes' else 0)\n",
    "df.OnlineBackup= df.OnlineBackup.apply(lambda x: 1 if x=='Yes' else 0)\n",
    "df.DeviceProtection= df.DeviceProtection.apply(lambda x: 1 if x=='Yes' else 0)\n",
    "df.TechSupport= df.TechSupport.apply(lambda x: 1 if x=='Yes' else 0)\n",
    "df.StreamingTV= df.StreamingTV.apply(lambda x: 1 if x=='Yes' else 0)\n",
    "df.StreamingMovies= df.StreamingMovies.apply(lambda x: 1 if x=='Yes' else 0)"
   ]
  },
  {
   "cell_type": "code",
   "execution_count": 10,
   "metadata": {},
   "outputs": [
    {
     "data": {
      "text/plain": [
       "1    3096\n",
       "0    2421\n",
       "2    1526\n",
       "Name: InternetServiceCat, dtype: int64"
      ]
     },
     "execution_count": 10,
     "metadata": {},
     "output_type": "execute_result"
    }
   ],
   "source": [
    "# Use Lable Encoding to categorize InternetService variable\n",
    "df[\"InternetService\"] = df[\"InternetService\"].astype('category')\n",
    "df[\"InternetServiceCat\"] = df[\"InternetService\"].cat.codes\n",
    "df.InternetServiceCat.value_counts()"
   ]
  },
  {
   "cell_type": "code",
   "execution_count": 11,
   "metadata": {},
   "outputs": [
    {
     "data": {
      "text/plain": [
       "0    3875\n",
       "2    1695\n",
       "1    1473\n",
       "Name: ContractCat, dtype: int64"
      ]
     },
     "execution_count": 11,
     "metadata": {},
     "output_type": "execute_result"
    }
   ],
   "source": [
    "# Use Lable Encoding to categorize Contract variable\n",
    "df[\"Contract\"] = df[\"Contract\"].astype('category')\n",
    "df[\"ContractCat\"] = df[\"Contract\"].cat.codes\n",
    "df.ContractCat.value_counts()"
   ]
  },
  {
   "cell_type": "code",
   "execution_count": 12,
   "metadata": {},
   "outputs": [
    {
     "data": {
      "text/plain": [
       "2    2365\n",
       "3    1612\n",
       "0    1544\n",
       "1    1522\n",
       "Name: PaymentMethodCat, dtype: int64"
      ]
     },
     "execution_count": 12,
     "metadata": {},
     "output_type": "execute_result"
    }
   ],
   "source": [
    "# Use Lable Encoding to categorize PaymentMethod variable\n",
    "df[\"PaymentMethod\"] = df[\"PaymentMethod\"].astype('category')\n",
    "df[\"PaymentMethodCat\"] = df[\"PaymentMethod\"].cat.codes\n",
    "df.PaymentMethodCat.value_counts()"
   ]
  },
  {
   "cell_type": "code",
   "execution_count": 13,
   "metadata": {},
   "outputs": [
    {
     "data": {
      "text/plain": [
       "11"
      ]
     },
     "execution_count": 13,
     "metadata": {},
     "output_type": "execute_result"
    }
   ],
   "source": [
    "# When the TotalCharges variable was convrted to Float, it was found that there were few rows with string value ' '\n",
    "# Count the string values\n",
    "\n",
    "df.TotalCharges[df.TotalCharges == ' '].count()"
   ]
  },
  {
   "cell_type": "code",
   "execution_count": 14,
   "metadata": {},
   "outputs": [],
   "source": [
    "# Drop the 11 rows where Total Charges are ' '\n",
    "df = df.loc[df['TotalCharges'] != ' ']"
   ]
  },
  {
   "cell_type": "code",
   "execution_count": 15,
   "metadata": {},
   "outputs": [
    {
     "data": {
      "text/plain": [
       "(7032, 24)"
      ]
     },
     "execution_count": 15,
     "metadata": {},
     "output_type": "execute_result"
    }
   ],
   "source": [
    "# Confirm that the 11 rows are dropped\n",
    "df.shape"
   ]
  },
  {
   "cell_type": "code",
   "execution_count": 16,
   "metadata": {},
   "outputs": [],
   "source": [
    "# Change type of TotalCharges variable to Float64\n",
    "df.TotalCharges = df.TotalCharges.astype('Float64')"
   ]
  },
  {
   "cell_type": "code",
   "execution_count": 17,
   "metadata": {},
   "outputs": [],
   "source": [
    "# Delete CustomerID column\n",
    "df = df.drop(\"customerID\", axis=1)"
   ]
  },
  {
   "cell_type": "code",
   "execution_count": 18,
   "metadata": {},
   "outputs": [
    {
     "data": {
      "text/plain": [
       "gender                0\n",
       "SeniorCitizen         0\n",
       "Partner               0\n",
       "Dependents            0\n",
       "tenure                0\n",
       "PhoneService          0\n",
       "MultipleLines         0\n",
       "InternetService       0\n",
       "OnlineSecurity        0\n",
       "OnlineBackup          0\n",
       "DeviceProtection      0\n",
       "TechSupport           0\n",
       "StreamingTV           0\n",
       "StreamingMovies       0\n",
       "Contract              0\n",
       "PaperlessBilling      0\n",
       "PaymentMethod         0\n",
       "MonthlyCharges        0\n",
       "TotalCharges          0\n",
       "Churn                 0\n",
       "InternetServiceCat    0\n",
       "ContractCat           0\n",
       "PaymentMethodCat      0\n",
       "dtype: int64"
      ]
     },
     "execution_count": 18,
     "metadata": {},
     "output_type": "execute_result"
    }
   ],
   "source": [
    "# Check for any null records in the data frame\n",
    "df.isnull().sum()"
   ]
  },
  {
   "cell_type": "code",
   "execution_count": 19,
   "metadata": {},
   "outputs": [
    {
     "data": {
      "text/plain": [
       "gender                   int64\n",
       "SeniorCitizen            int64\n",
       "Partner                  int64\n",
       "Dependents               int64\n",
       "tenure                   int64\n",
       "PhoneService             int64\n",
       "MultipleLines            int64\n",
       "InternetService       category\n",
       "OnlineSecurity           int64\n",
       "OnlineBackup             int64\n",
       "DeviceProtection         int64\n",
       "TechSupport              int64\n",
       "StreamingTV              int64\n",
       "StreamingMovies          int64\n",
       "Contract              category\n",
       "PaperlessBilling         int64\n",
       "PaymentMethod         category\n",
       "MonthlyCharges         float64\n",
       "TotalCharges           float64\n",
       "Churn                    int64\n",
       "InternetServiceCat        int8\n",
       "ContractCat               int8\n",
       "PaymentMethodCat          int8\n",
       "dtype: object"
      ]
     },
     "execution_count": 19,
     "metadata": {},
     "output_type": "execute_result"
    }
   ],
   "source": [
    "df.dtypes"
   ]
  },
  {
   "cell_type": "code",
   "execution_count": 20,
   "metadata": {},
   "outputs": [
    {
     "data": {
      "text/html": [
       "<div>\n",
       "<style scoped>\n",
       "    .dataframe tbody tr th:only-of-type {\n",
       "        vertical-align: middle;\n",
       "    }\n",
       "\n",
       "    .dataframe tbody tr th {\n",
       "        vertical-align: top;\n",
       "    }\n",
       "\n",
       "    .dataframe thead th {\n",
       "        text-align: right;\n",
       "    }\n",
       "</style>\n",
       "<table border=\"1\" class=\"dataframe\">\n",
       "  <thead>\n",
       "    <tr style=\"text-align: right;\">\n",
       "      <th></th>\n",
       "      <th>gender</th>\n",
       "      <th>SeniorCitizen</th>\n",
       "      <th>Partner</th>\n",
       "      <th>Dependents</th>\n",
       "      <th>tenure</th>\n",
       "      <th>PhoneService</th>\n",
       "      <th>MultipleLines</th>\n",
       "      <th>InternetService</th>\n",
       "      <th>OnlineSecurity</th>\n",
       "      <th>OnlineBackup</th>\n",
       "      <th>...</th>\n",
       "      <th>StreamingMovies</th>\n",
       "      <th>Contract</th>\n",
       "      <th>PaperlessBilling</th>\n",
       "      <th>PaymentMethod</th>\n",
       "      <th>MonthlyCharges</th>\n",
       "      <th>TotalCharges</th>\n",
       "      <th>Churn</th>\n",
       "      <th>InternetServiceCat</th>\n",
       "      <th>ContractCat</th>\n",
       "      <th>PaymentMethodCat</th>\n",
       "    </tr>\n",
       "  </thead>\n",
       "  <tbody>\n",
       "    <tr>\n",
       "      <th>0</th>\n",
       "      <td>0</td>\n",
       "      <td>0</td>\n",
       "      <td>1</td>\n",
       "      <td>0</td>\n",
       "      <td>1</td>\n",
       "      <td>0</td>\n",
       "      <td>0</td>\n",
       "      <td>DSL</td>\n",
       "      <td>0</td>\n",
       "      <td>1</td>\n",
       "      <td>...</td>\n",
       "      <td>0</td>\n",
       "      <td>Month-to-month</td>\n",
       "      <td>1</td>\n",
       "      <td>Electronic check</td>\n",
       "      <td>29.85</td>\n",
       "      <td>29.85</td>\n",
       "      <td>0</td>\n",
       "      <td>0</td>\n",
       "      <td>0</td>\n",
       "      <td>2</td>\n",
       "    </tr>\n",
       "    <tr>\n",
       "      <th>1</th>\n",
       "      <td>1</td>\n",
       "      <td>0</td>\n",
       "      <td>0</td>\n",
       "      <td>0</td>\n",
       "      <td>34</td>\n",
       "      <td>1</td>\n",
       "      <td>0</td>\n",
       "      <td>DSL</td>\n",
       "      <td>1</td>\n",
       "      <td>0</td>\n",
       "      <td>...</td>\n",
       "      <td>0</td>\n",
       "      <td>One year</td>\n",
       "      <td>0</td>\n",
       "      <td>Mailed check</td>\n",
       "      <td>56.95</td>\n",
       "      <td>1889.50</td>\n",
       "      <td>0</td>\n",
       "      <td>0</td>\n",
       "      <td>1</td>\n",
       "      <td>3</td>\n",
       "    </tr>\n",
       "    <tr>\n",
       "      <th>2</th>\n",
       "      <td>1</td>\n",
       "      <td>0</td>\n",
       "      <td>0</td>\n",
       "      <td>0</td>\n",
       "      <td>2</td>\n",
       "      <td>1</td>\n",
       "      <td>0</td>\n",
       "      <td>DSL</td>\n",
       "      <td>1</td>\n",
       "      <td>1</td>\n",
       "      <td>...</td>\n",
       "      <td>0</td>\n",
       "      <td>Month-to-month</td>\n",
       "      <td>1</td>\n",
       "      <td>Mailed check</td>\n",
       "      <td>53.85</td>\n",
       "      <td>108.15</td>\n",
       "      <td>1</td>\n",
       "      <td>0</td>\n",
       "      <td>0</td>\n",
       "      <td>3</td>\n",
       "    </tr>\n",
       "    <tr>\n",
       "      <th>3</th>\n",
       "      <td>1</td>\n",
       "      <td>0</td>\n",
       "      <td>0</td>\n",
       "      <td>0</td>\n",
       "      <td>45</td>\n",
       "      <td>0</td>\n",
       "      <td>0</td>\n",
       "      <td>DSL</td>\n",
       "      <td>1</td>\n",
       "      <td>0</td>\n",
       "      <td>...</td>\n",
       "      <td>0</td>\n",
       "      <td>One year</td>\n",
       "      <td>0</td>\n",
       "      <td>Bank transfer (automatic)</td>\n",
       "      <td>42.30</td>\n",
       "      <td>1840.75</td>\n",
       "      <td>0</td>\n",
       "      <td>0</td>\n",
       "      <td>1</td>\n",
       "      <td>0</td>\n",
       "    </tr>\n",
       "    <tr>\n",
       "      <th>4</th>\n",
       "      <td>0</td>\n",
       "      <td>0</td>\n",
       "      <td>0</td>\n",
       "      <td>0</td>\n",
       "      <td>2</td>\n",
       "      <td>1</td>\n",
       "      <td>0</td>\n",
       "      <td>Fiber optic</td>\n",
       "      <td>0</td>\n",
       "      <td>0</td>\n",
       "      <td>...</td>\n",
       "      <td>0</td>\n",
       "      <td>Month-to-month</td>\n",
       "      <td>1</td>\n",
       "      <td>Electronic check</td>\n",
       "      <td>70.70</td>\n",
       "      <td>151.65</td>\n",
       "      <td>1</td>\n",
       "      <td>1</td>\n",
       "      <td>0</td>\n",
       "      <td>2</td>\n",
       "    </tr>\n",
       "  </tbody>\n",
       "</table>\n",
       "<p>5 rows × 23 columns</p>\n",
       "</div>"
      ],
      "text/plain": [
       "   gender  SeniorCitizen  Partner  Dependents  tenure  PhoneService  \\\n",
       "0       0              0        1           0       1             0   \n",
       "1       1              0        0           0      34             1   \n",
       "2       1              0        0           0       2             1   \n",
       "3       1              0        0           0      45             0   \n",
       "4       0              0        0           0       2             1   \n",
       "\n",
       "   MultipleLines InternetService  OnlineSecurity  OnlineBackup  ...  \\\n",
       "0              0             DSL               0             1  ...   \n",
       "1              0             DSL               1             0  ...   \n",
       "2              0             DSL               1             1  ...   \n",
       "3              0             DSL               1             0  ...   \n",
       "4              0     Fiber optic               0             0  ...   \n",
       "\n",
       "   StreamingMovies        Contract  PaperlessBilling  \\\n",
       "0                0  Month-to-month                 1   \n",
       "1                0        One year                 0   \n",
       "2                0  Month-to-month                 1   \n",
       "3                0        One year                 0   \n",
       "4                0  Month-to-month                 1   \n",
       "\n",
       "               PaymentMethod MonthlyCharges  TotalCharges Churn  \\\n",
       "0           Electronic check          29.85         29.85     0   \n",
       "1               Mailed check          56.95       1889.50     0   \n",
       "2               Mailed check          53.85        108.15     1   \n",
       "3  Bank transfer (automatic)          42.30       1840.75     0   \n",
       "4           Electronic check          70.70        151.65     1   \n",
       "\n",
       "   InternetServiceCat  ContractCat  PaymentMethodCat  \n",
       "0                   0            0                 2  \n",
       "1                   0            1                 3  \n",
       "2                   0            0                 3  \n",
       "3                   0            1                 0  \n",
       "4                   1            0                 2  \n",
       "\n",
       "[5 rows x 23 columns]"
      ]
     },
     "execution_count": 20,
     "metadata": {},
     "output_type": "execute_result"
    }
   ],
   "source": [
    "df.head()"
   ]
  },
  {
   "cell_type": "markdown",
   "metadata": {},
   "source": [
    "### Exploratory Data Analysis"
   ]
  },
  {
   "cell_type": "code",
   "execution_count": 21,
   "metadata": {},
   "outputs": [
    {
     "data": {
      "image/png": "[encoded data removed]",
      "text/plain": [
       "<Figure size 432x288 with 1 Axes>"
      ]
     },
     "metadata": {
      "needs_background": "light"
     },
     "output_type": "display_data"
    }
   ],
   "source": [
    "# Stacked bar chart to compare churn/no churn with Contract\n",
    "contract_churn = df.replace({'Churn': {1: 'Churn', 0: 'No-Churn'}})[df['Churn']==1]['Contract'].value_counts()\n",
    "contract_no_churn = df.replace({'Churn': {1: 'Churn', 0: 'No-Churn'}})[df['Churn']==0]['Contract'].value_counts()\n",
    "contract_no_churn = contract_no_churn.reindex(index = contract_churn.index)\n",
    "\n",
    "# make the bar plot\n",
    "p1 = plt.bar(contract_churn.index, contract_churn.values)\n",
    "p2 = plt.bar(contract_no_churn.index, contract_no_churn.values, bottom=contract_churn.values)\n",
    "plt.title('Churn by Contract Type', fontsize=25)\n",
    "plt.ylabel('Counts', fontsize=20)\n",
    "plt.xlabel('Contract', fontsize=20)\n",
    "plt.tick_params(axis='both', labelsize=15)\n",
    "plt.legend((p1[0], p2[0]), ('Churn', 'No Churn'), fontsize = 15)\n",
    "plt.show()"
   ]
  },
  {
   "cell_type": "code",
   "execution_count": 22,
   "metadata": {},
   "outputs": [
    {
     "data": {
      "image/png": "[encoded data removed]",
      "text/plain": [
       "<Figure size 432x288 with 1 Axes>"
      ]
     },
     "metadata": {
      "needs_background": "light"
     },
     "output_type": "display_data"
    }
   ],
   "source": [
    "# Stacked bar chart to compare churn/no churn with InternetService\n",
    "internet_service_churn = df.replace({'Churn': {1: 'Churn', 0: 'No-Churn'}})[df['Churn']==1]['InternetService'].value_counts()\n",
    "internet_service_no_churn = df.replace({'Churn': {1: 'Churn', 0: 'No-Churn'}})[df['Churn']==0]['InternetService'].value_counts()\n",
    "internet_service_no_churn = internet_service_no_churn.reindex(index = internet_service_churn.index)\n",
    "\n",
    "# make the bar plot\n",
    "p1 = plt.bar(internet_service_churn.index, internet_service_churn.values)\n",
    "p2 = plt.bar(internet_service_no_churn.index, internet_service_no_churn.values, bottom=internet_service_churn.values)\n",
    "plt.title('Churn by Internet Service', fontsize=25)\n",
    "plt.ylabel('Counts', fontsize=20)\n",
    "plt.xlabel('Internet Service', fontsize=20)\n",
    "plt.tick_params(axis='both', labelsize=15)\n",
    "plt.legend((p1[0], p2[0]), ('Churn', 'No Churn'), fontsize = 15)\n",
    "plt.show()"
   ]
  },
  {
   "cell_type": "code",
   "execution_count": 23,
   "metadata": {},
   "outputs": [
    {
     "data": {
      "image/png": "[encoded data removed]",
      "text/plain": [
       "<Figure size 432x288 with 1 Axes>"
      ]
     },
     "metadata": {
      "needs_background": "light"
     },
     "output_type": "display_data"
    }
   ],
   "source": [
    "# Stacked bar chart to compare churn/no churn with PaymentMethod\n",
    "payment_method_churn = df.replace({'Churn': {1: 'Churn', 0: 'No-Churn'}})[df['Churn']==1]['PaymentMethod'].value_counts()\n",
    "payment_method_no_churn = df.replace({'Churn': {1: 'Churn', 0: 'No-Churn'}})[df['Churn']==0]['PaymentMethod'].value_counts()\n",
    "payment_method_no_churn = payment_method_no_churn.reindex(index = payment_method_churn.index)\n",
    "\n",
    "# make the bar plot\n",
    "p1 = plt.bar(payment_method_churn.index, payment_method_churn.values)\n",
    "p2 = plt.bar(payment_method_no_churn.index, payment_method_no_churn.values, bottom=payment_method_churn.values)\n",
    "plt.title('Churn by Payment Method', fontsize=25)\n",
    "plt.ylabel('Counts', fontsize=20)\n",
    "plt.xlabel('Payment Method', fontsize=20)\n",
    "plt.tick_params(axis='both', labelsize=15)\n",
    "plt.legend((p1[0], p2[0]), ('Churn', 'No Churn'), fontsize = 15)\n",
    "plt.show()"
   ]
  },
  {
   "cell_type": "code",
   "execution_count": 24,
   "metadata": {},
   "outputs": [
    {
     "data": {
      "image/png": "[encoded data removed]",
      "text/plain": [
       "<Figure size 864x576 with 1 Axes>"
      ]
     },
     "metadata": {
      "needs_background": "light"
     },
     "output_type": "display_data"
    }
   ],
   "source": [
    "# Stacked bar chart to compare churn/no churn with Gender\n",
    "gender_churn = df.replace({'Churn': {1: 'Churn', 0: 'No-Churn'}})[df['Churn']==1]['gender'].value_counts()\n",
    "gender_no_churn = df.replace({'Churn': {1: 'Churn', 0: 'No-Churn'}})[df['Churn']==0]['gender'].value_counts()\n",
    "gender_no_churn = gender_no_churn.reindex(index = gender_churn.index)\n",
    "\n",
    "# make the bar plot\n",
    "plt.rcParams['figure.figsize'] = (12, 8)\n",
    "p1 = plt.bar(gender_churn.index, gender_churn.values)\n",
    "p2 = plt.bar(gender_no_churn.index, gender_no_churn.values, bottom=gender_churn.values)\n",
    "plt.title('Churn by Gender', fontsize=25)\n",
    "plt.ylabel('Counts', fontsize=20)\n",
    "plt.xlabel('Gender', fontsize=20)\n",
    "plt.xticks([0,1], ['Female','Male'])\n",
    "plt.legend((p1[0], p2[0]), ('Churn', 'No Churn'), fontsize = 15)\n",
    "plt.show()"
   ]
  },
  {
   "cell_type": "code",
   "execution_count": 25,
   "metadata": {},
   "outputs": [
    {
     "data": {
      "image/png": "[encoded data removed]",
      "text/plain": [
       "<Figure size 864x576 with 1 Axes>"
      ]
     },
     "metadata": {
      "needs_background": "light"
     },
     "output_type": "display_data"
    }
   ],
   "source": [
    "# Creating the bar plot for Partner\n",
    "fig = plt.figure(figsize = (12, 8))\n",
    "sns.barplot(x=df['Partner'], y=df['Partner'].value_counts()) \n",
    "plt.xlabel(\"Partner\")\n",
    "plt.ylabel(\"Count\")\n",
    "plt.xticks([0,1], ['No','Yes'])\n",
    "plt.title(\"Partner\")\n",
    "plt.show()"
   ]
  },
  {
   "cell_type": "code",
   "execution_count": 26,
   "metadata": {},
   "outputs": [
    {
     "data": {
      "image/png": "[encoded data removed]",
      "text/plain": [
       "<Figure size 864x576 with 1 Axes>"
      ]
     },
     "metadata": {
      "needs_background": "light"
     },
     "output_type": "display_data"
    }
   ],
   "source": [
    "# Creating the bar plot for Phone Service\n",
    "fig = plt.figure(figsize = (12, 8))\n",
    "sns.barplot(x=df['PhoneService'], y=df['PhoneService'].value_counts()) \n",
    "plt.xlabel(\"Phone Service\")\n",
    "plt.ylabel(\"Count\")\n",
    "plt.xticks([0,1], ['No','Yes'])\n",
    "plt.title(\"Phone Service\")\n",
    "plt.show()"
   ]
  },
  {
   "cell_type": "code",
   "execution_count": 27,
   "metadata": {},
   "outputs": [
    {
     "data": {
      "image/png": "[encoded data removed]",
      "text/plain": [
       "<Figure size 864x576 with 1 Axes>"
      ]
     },
     "metadata": {
      "needs_background": "light"
     },
     "output_type": "display_data"
    }
   ],
   "source": [
    "# Creating the bar plot for Paperless Billing\n",
    "fig = plt.figure(figsize = (12, 8))\n",
    "sns.barplot(x=df['PaperlessBilling'], y=df['PaperlessBilling'].value_counts()) \n",
    "plt.xlabel(\"Paperless Billing\")\n",
    "plt.ylabel(\"Count\")\n",
    "plt.xticks([0,1], ['No','Yes'])\n",
    "plt.title(\"Paperless Billing\")\n",
    "plt.show()"
   ]
  },
  {
   "cell_type": "code",
   "execution_count": 28,
   "metadata": {},
   "outputs": [
    {
     "data": {
      "text/plain": [
       "<AxesSubplot:>"
      ]
     },
     "execution_count": 28,
     "metadata": {},
     "output_type": "execute_result"
    },
    {
     "data": {
      "image/png": "[encoded data removed]",
      "text/plain": [
       "<Figure size 864x864 with 2 Axes>"
      ]
     },
     "metadata": {
      "needs_background": "light"
     },
     "output_type": "display_data"
    }
   ],
   "source": [
    "# Pearson Correlation Matrix\n",
    "plt.figure(figsize=(12, 12))\n",
    "sns.heatmap(df.corr(), cmap='coolwarm')"
   ]
  },
  {
   "cell_type": "markdown",
   "metadata": {},
   "source": [
    "### Prep the data"
   ]
  },
  {
   "cell_type": "code",
   "execution_count": 29,
   "metadata": {},
   "outputs": [],
   "source": [
    "# Combine the numerical features \n",
    "features_model = ['gender','SeniorCitizen','Partner','Dependents','tenure','PhoneService','MultipleLines','OnlineSecurity',\n",
    "                  'OnlineBackup','DeviceProtection','TechSupport','StreamingTV','StreamingMovies','PaperlessBilling',\n",
    "                  'MonthlyCharges','TotalCharges','InternetServiceCat','ContractCat','PaymentMethodCat']\n",
    "data_model_X = df[features_model]"
   ]
  },
  {
   "cell_type": "code",
   "execution_count": 30,
   "metadata": {},
   "outputs": [
    {
     "data": {
      "text/html": [
       "<div>\n",
       "<style scoped>\n",
       "    .dataframe tbody tr th:only-of-type {\n",
       "        vertical-align: middle;\n",
       "    }\n",
       "\n",
       "    .dataframe tbody tr th {\n",
       "        vertical-align: top;\n",
       "    }\n",
       "\n",
       "    .dataframe thead th {\n",
       "        text-align: right;\n",
       "    }\n",
       "</style>\n",
       "<table border=\"1\" class=\"dataframe\">\n",
       "  <thead>\n",
       "    <tr style=\"text-align: right;\">\n",
       "      <th></th>\n",
       "      <th>gender</th>\n",
       "      <th>SeniorCitizen</th>\n",
       "      <th>Partner</th>\n",
       "      <th>Dependents</th>\n",
       "      <th>tenure</th>\n",
       "      <th>PhoneService</th>\n",
       "      <th>MultipleLines</th>\n",
       "      <th>OnlineSecurity</th>\n",
       "      <th>OnlineBackup</th>\n",
       "      <th>DeviceProtection</th>\n",
       "      <th>TechSupport</th>\n",
       "      <th>StreamingTV</th>\n",
       "      <th>StreamingMovies</th>\n",
       "      <th>PaperlessBilling</th>\n",
       "      <th>MonthlyCharges</th>\n",
       "      <th>TotalCharges</th>\n",
       "      <th>InternetServiceCat</th>\n",
       "      <th>ContractCat</th>\n",
       "      <th>PaymentMethodCat</th>\n",
       "    </tr>\n",
       "  </thead>\n",
       "  <tbody>\n",
       "    <tr>\n",
       "      <th>0</th>\n",
       "      <td>0</td>\n",
       "      <td>0</td>\n",
       "      <td>1</td>\n",
       "      <td>0</td>\n",
       "      <td>1</td>\n",
       "      <td>0</td>\n",
       "      <td>0</td>\n",
       "      <td>0</td>\n",
       "      <td>1</td>\n",
       "      <td>0</td>\n",
       "      <td>0</td>\n",
       "      <td>0</td>\n",
       "      <td>0</td>\n",
       "      <td>1</td>\n",
       "      <td>29.85</td>\n",
       "      <td>29.85</td>\n",
       "      <td>0</td>\n",
       "      <td>0</td>\n",
       "      <td>2</td>\n",
       "    </tr>\n",
       "    <tr>\n",
       "      <th>1</th>\n",
       "      <td>1</td>\n",
       "      <td>0</td>\n",
       "      <td>0</td>\n",
       "      <td>0</td>\n",
       "      <td>34</td>\n",
       "      <td>1</td>\n",
       "      <td>0</td>\n",
       "      <td>1</td>\n",
       "      <td>0</td>\n",
       "      <td>1</td>\n",
       "      <td>0</td>\n",
       "      <td>0</td>\n",
       "      <td>0</td>\n",
       "      <td>0</td>\n",
       "      <td>56.95</td>\n",
       "      <td>1889.50</td>\n",
       "      <td>0</td>\n",
       "      <td>1</td>\n",
       "      <td>3</td>\n",
       "    </tr>\n",
       "    <tr>\n",
       "      <th>2</th>\n",
       "      <td>1</td>\n",
       "      <td>0</td>\n",
       "      <td>0</td>\n",
       "      <td>0</td>\n",
       "      <td>2</td>\n",
       "      <td>1</td>\n",
       "      <td>0</td>\n",
       "      <td>1</td>\n",
       "      <td>1</td>\n",
       "      <td>0</td>\n",
       "      <td>0</td>\n",
       "      <td>0</td>\n",
       "      <td>0</td>\n",
       "      <td>1</td>\n",
       "      <td>53.85</td>\n",
       "      <td>108.15</td>\n",
       "      <td>0</td>\n",
       "      <td>0</td>\n",
       "      <td>3</td>\n",
       "    </tr>\n",
       "    <tr>\n",
       "      <th>3</th>\n",
       "      <td>1</td>\n",
       "      <td>0</td>\n",
       "      <td>0</td>\n",
       "      <td>0</td>\n",
       "      <td>45</td>\n",
       "      <td>0</td>\n",
       "      <td>0</td>\n",
       "      <td>1</td>\n",
       "      <td>0</td>\n",
       "      <td>1</td>\n",
       "      <td>1</td>\n",
       "      <td>0</td>\n",
       "      <td>0</td>\n",
       "      <td>0</td>\n",
       "      <td>42.30</td>\n",
       "      <td>1840.75</td>\n",
       "      <td>0</td>\n",
       "      <td>1</td>\n",
       "      <td>0</td>\n",
       "    </tr>\n",
       "    <tr>\n",
       "      <th>4</th>\n",
       "      <td>0</td>\n",
       "      <td>0</td>\n",
       "      <td>0</td>\n",
       "      <td>0</td>\n",
       "      <td>2</td>\n",
       "      <td>1</td>\n",
       "      <td>0</td>\n",
       "      <td>0</td>\n",
       "      <td>0</td>\n",
       "      <td>0</td>\n",
       "      <td>0</td>\n",
       "      <td>0</td>\n",
       "      <td>0</td>\n",
       "      <td>1</td>\n",
       "      <td>70.70</td>\n",
       "      <td>151.65</td>\n",
       "      <td>1</td>\n",
       "      <td>0</td>\n",
       "      <td>2</td>\n",
       "    </tr>\n",
       "    <tr>\n",
       "      <th>...</th>\n",
       "      <td>...</td>\n",
       "      <td>...</td>\n",
       "      <td>...</td>\n",
       "      <td>...</td>\n",
       "      <td>...</td>\n",
       "      <td>...</td>\n",
       "      <td>...</td>\n",
       "      <td>...</td>\n",
       "      <td>...</td>\n",
       "      <td>...</td>\n",
       "      <td>...</td>\n",
       "      <td>...</td>\n",
       "      <td>...</td>\n",
       "      <td>...</td>\n",
       "      <td>...</td>\n",
       "      <td>...</td>\n",
       "      <td>...</td>\n",
       "      <td>...</td>\n",
       "      <td>...</td>\n",
       "    </tr>\n",
       "    <tr>\n",
       "      <th>7038</th>\n",
       "      <td>1</td>\n",
       "      <td>0</td>\n",
       "      <td>1</td>\n",
       "      <td>1</td>\n",
       "      <td>24</td>\n",
       "      <td>1</td>\n",
       "      <td>1</td>\n",
       "      <td>1</td>\n",
       "      <td>0</td>\n",
       "      <td>1</td>\n",
       "      <td>1</td>\n",
       "      <td>1</td>\n",
       "      <td>1</td>\n",
       "      <td>1</td>\n",
       "      <td>84.80</td>\n",
       "      <td>1990.50</td>\n",
       "      <td>0</td>\n",
       "      <td>1</td>\n",
       "      <td>3</td>\n",
       "    </tr>\n",
       "    <tr>\n",
       "      <th>7039</th>\n",
       "      <td>0</td>\n",
       "      <td>0</td>\n",
       "      <td>1</td>\n",
       "      <td>1</td>\n",
       "      <td>72</td>\n",
       "      <td>1</td>\n",
       "      <td>1</td>\n",
       "      <td>0</td>\n",
       "      <td>1</td>\n",
       "      <td>1</td>\n",
       "      <td>0</td>\n",
       "      <td>1</td>\n",
       "      <td>1</td>\n",
       "      <td>1</td>\n",
       "      <td>103.20</td>\n",
       "      <td>7362.90</td>\n",
       "      <td>1</td>\n",
       "      <td>1</td>\n",
       "      <td>1</td>\n",
       "    </tr>\n",
       "    <tr>\n",
       "      <th>7040</th>\n",
       "      <td>0</td>\n",
       "      <td>0</td>\n",
       "      <td>1</td>\n",
       "      <td>1</td>\n",
       "      <td>11</td>\n",
       "      <td>0</td>\n",
       "      <td>0</td>\n",
       "      <td>1</td>\n",
       "      <td>0</td>\n",
       "      <td>0</td>\n",
       "      <td>0</td>\n",
       "      <td>0</td>\n",
       "      <td>0</td>\n",
       "      <td>1</td>\n",
       "      <td>29.60</td>\n",
       "      <td>346.45</td>\n",
       "      <td>0</td>\n",
       "      <td>0</td>\n",
       "      <td>2</td>\n",
       "    </tr>\n",
       "    <tr>\n",
       "      <th>7041</th>\n",
       "      <td>1</td>\n",
       "      <td>1</td>\n",
       "      <td>1</td>\n",
       "      <td>0</td>\n",
       "      <td>4</td>\n",
       "      <td>1</td>\n",
       "      <td>1</td>\n",
       "      <td>0</td>\n",
       "      <td>0</td>\n",
       "      <td>0</td>\n",
       "      <td>0</td>\n",
       "      <td>0</td>\n",
       "      <td>0</td>\n",
       "      <td>1</td>\n",
       "      <td>74.40</td>\n",
       "      <td>306.60</td>\n",
       "      <td>1</td>\n",
       "      <td>0</td>\n",
       "      <td>3</td>\n",
       "    </tr>\n",
       "    <tr>\n",
       "      <th>7042</th>\n",
       "      <td>1</td>\n",
       "      <td>0</td>\n",
       "      <td>0</td>\n",
       "      <td>0</td>\n",
       "      <td>66</td>\n",
       "      <td>1</td>\n",
       "      <td>0</td>\n",
       "      <td>1</td>\n",
       "      <td>0</td>\n",
       "      <td>1</td>\n",
       "      <td>1</td>\n",
       "      <td>1</td>\n",
       "      <td>1</td>\n",
       "      <td>1</td>\n",
       "      <td>105.65</td>\n",
       "      <td>6844.50</td>\n",
       "      <td>1</td>\n",
       "      <td>2</td>\n",
       "      <td>0</td>\n",
       "    </tr>\n",
       "  </tbody>\n",
       "</table>\n",
       "<p>7032 rows × 19 columns</p>\n",
       "</div>"
      ],
      "text/plain": [
       "      gender  SeniorCitizen  Partner  Dependents  tenure  PhoneService  \\\n",
       "0          0              0        1           0       1             0   \n",
       "1          1              0        0           0      34             1   \n",
       "2          1              0        0           0       2             1   \n",
       "3          1              0        0           0      45             0   \n",
       "4          0              0        0           0       2             1   \n",
       "...      ...            ...      ...         ...     ...           ...   \n",
       "7038       1              0        1           1      24             1   \n",
       "7039       0              0        1           1      72             1   \n",
       "7040       0              0        1           1      11             0   \n",
       "7041       1              1        1           0       4             1   \n",
       "7042       1              0        0           0      66             1   \n",
       "\n",
       "      MultipleLines  OnlineSecurity  OnlineBackup  DeviceProtection  \\\n",
       "0                 0               0             1                 0   \n",
       "1                 0               1             0                 1   \n",
       "2                 0               1             1                 0   \n",
       "3                 0               1             0                 1   \n",
       "4                 0               0             0                 0   \n",
       "...             ...             ...           ...               ...   \n",
       "7038              1               1             0                 1   \n",
       "7039              1               0             1                 1   \n",
       "7040              0               1             0                 0   \n",
       "7041              1               0             0                 0   \n",
       "7042              0               1             0                 1   \n",
       "\n",
       "      TechSupport  StreamingTV  StreamingMovies  PaperlessBilling  \\\n",
       "0               0            0                0                 1   \n",
       "1               0            0                0                 0   \n",
       "2               0            0                0                 1   \n",
       "3               1            0                0                 0   \n",
       "4               0            0                0                 1   \n",
       "...           ...          ...              ...               ...   \n",
       "7038            1            1                1                 1   \n",
       "7039            0            1                1                 1   \n",
       "7040            0            0                0                 1   \n",
       "7041            0            0                0                 1   \n",
       "7042            1            1                1                 1   \n",
       "\n",
       "      MonthlyCharges  TotalCharges  InternetServiceCat  ContractCat  \\\n",
       "0              29.85         29.85                   0            0   \n",
       "1              56.95       1889.50                   0            1   \n",
       "2              53.85        108.15                   0            0   \n",
       "3              42.30       1840.75                   0            1   \n",
       "4              70.70        151.65                   1            0   \n",
       "...              ...           ...                 ...          ...   \n",
       "7038           84.80       1990.50                   0            1   \n",
       "7039          103.20       7362.90                   1            1   \n",
       "7040           29.60        346.45                   0            0   \n",
       "7041           74.40        306.60                   1            0   \n",
       "7042          105.65       6844.50                   1            2   \n",
       "\n",
       "      PaymentMethodCat  \n",
       "0                    2  \n",
       "1                    3  \n",
       "2                    3  \n",
       "3                    0  \n",
       "4                    2  \n",
       "...                ...  \n",
       "7038                 3  \n",
       "7039                 1  \n",
       "7040                 2  \n",
       "7041                 3  \n",
       "7042                 0  \n",
       "\n",
       "[7032 rows x 19 columns]"
      ]
     },
     "execution_count": 30,
     "metadata": {},
     "output_type": "execute_result"
    }
   ],
   "source": [
    "# Check the contents of data_model_X\n",
    "data_model_X"
   ]
  },
  {
   "cell_type": "code",
   "execution_count": 31,
   "metadata": {},
   "outputs": [],
   "source": [
    "# Create data_model_y for dependent vatiable Churn\n",
    "data_model_y = df.Churn\n",
    "\n",
    "# import package to split the data into train and test\n",
    "from sklearn.model_selection import train_test_split\n",
    "\n",
    "# split the data\n",
    "X_train, X_val, y_train, y_val = train_test_split(data_model_X, data_model_y, test_size =0.25, random_state=8)"
   ]
  },
  {
   "cell_type": "code",
   "execution_count": 32,
   "metadata": {},
   "outputs": [],
   "source": [
    "# Feature Scaling\n",
    "from sklearn.preprocessing import StandardScaler\n",
    "\n",
    "sc = StandardScaler()\n",
    "sc.fit(X_train)\n",
    "X_train = sc.fit_transform(X_train)\n",
    "X_val = sc.transform(X_val)"
   ]
  },
  {
   "cell_type": "code",
   "execution_count": 33,
   "metadata": {},
   "outputs": [
    {
     "name": "stdout",
     "output_type": "stream",
     "text": [
      "No. of samples in training set:  5274\n",
      "No. of samples in validation set: 1758\n",
      "\n",
      "\n",
      "No. of Churn and No-Churn in the training set:\n",
      "0    3861\n",
      "1    1413\n",
      "Name: Churn, dtype: int64\n",
      "\n",
      "\n",
      "No. of Churn and No-Churn in the validation set:\n",
      "0    1302\n",
      "1     456\n",
      "Name: Churn, dtype: int64\n"
     ]
    }
   ],
   "source": [
    "# number of samples in each set\n",
    "print(\"No. of samples in training set: \", X_train.shape[0])\n",
    "print(\"No. of samples in validation set:\", X_val.shape[0])\n",
    "\n",
    "# Admission and no-admission\n",
    "print('\\n')\n",
    "print('No. of Churn and No-Churn in the training set:')\n",
    "print(y_train.value_counts())\n",
    "\n",
    "print('\\n')\n",
    "print('No. of Churn and No-Churn in the validation set:')\n",
    "print(y_val.value_counts())"
   ]
  },
  {
   "cell_type": "markdown",
   "metadata": {},
   "source": [
    "### K Neighbors Classifier"
   ]
  },
  {
   "cell_type": "code",
   "execution_count": 34,
   "metadata": {},
   "outputs": [
    {
     "data": {
      "image/png": "[encoded data removed]",
      "text/plain": [
       "<Figure size 576x396 with 1 Axes>"
      ]
     },
     "metadata": {},
     "output_type": "display_data"
    },
    {
     "data": {
      "text/plain": [
       "<AxesSubplot:title={'center':'KNeighborsClassifier Confusion Matrix'}, xlabel='Predicted Class', ylabel='True Class'>"
      ]
     },
     "execution_count": 34,
     "metadata": {},
     "output_type": "execute_result"
    }
   ],
   "source": [
    "# Import K Neighbors Classifier \n",
    "from sklearn.neighbors import KNeighborsClassifier\n",
    "\n",
    "from yellowbrick.classifier import ConfusionMatrix\n",
    "from yellowbrick.classifier import ClassificationReport\n",
    "\n",
    "#Create a model instance using K Neighbors Classifier\n",
    "model = KNeighborsClassifier()\n",
    "\n",
    "# Create Confusion Matrix\n",
    "classes = ['No_Churn','Churn']\n",
    "cm = ConfusionMatrix(model, classes=classes, percent=False)\n",
    "\n",
    "# Fit the model\n",
    "cm.fit(X_train, y_train)\n",
    "\n",
    "# Create confusion matric scores\n",
    "cm.score(X_val, y_val)\n",
    "\n",
    "# change fontsize of the labels in the figure\n",
    "for label in cm.ax.texts:\n",
    "    label.set_size(20)\n",
    "\n",
    "# Display\n",
    "cm.poof()"
   ]
  },
  {
   "cell_type": "code",
   "execution_count": 35,
   "metadata": {},
   "outputs": [
    {
     "data": {
      "image/png": "[encoded data removed]",
      "text/plain": [
       "<Figure size 1080x504 with 2 Axes>"
      ]
     },
     "metadata": {},
     "output_type": "display_data"
    }
   ],
   "source": [
    "# Precision, Recall, and F1 Score\n",
    "# Set the size of the figure and the font size \n",
    "plt.rcParams['figure.figsize'] = (15, 7)\n",
    "plt.rcParams['font.size'] = 20\n",
    "\n",
    "# Instantiate the visualizer\n",
    "visualizer = ClassificationReport(model, classes=classes)\n",
    "\n",
    "# Fit the training data and evaluate using test data\n",
    "visualizer.fit(X_train, y_train)\n",
    "visualizer.score(X_val, y_val)\n",
    "\n",
    "# Display\n",
    "g = visualizer.poof()"
   ]
  },
  {
   "cell_type": "code",
   "execution_count": 36,
   "metadata": {},
   "outputs": [
    {
     "name": "stdout",
     "output_type": "stream",
     "text": [
      "Accuracy = 0.7525597269624573\n"
     ]
    }
   ],
   "source": [
    "# Use score method to get accuracy of model\n",
    "score = model.score(X_val, y_val)\n",
    "print(\"Accuracy =\", score)"
   ]
  },
  {
   "cell_type": "code",
   "execution_count": 37,
   "metadata": {},
   "outputs": [
    {
     "name": "stdout",
     "output_type": "stream",
     "text": [
      "Fitting 5 folds for each of 30 candidates, totalling 150 fits\n",
      "[CV] metric=euclidean, n_neighbors=1 .................................\n",
      "[CV] ..... metric=euclidean, n_neighbors=1, score=0.720, total=   0.1s\n",
      "[CV] metric=euclidean, n_neighbors=1 .................................\n"
     ]
    },
    {
     "name": "stderr",
     "output_type": "stream",
     "text": [
      "[Parallel(n_jobs=1)]: Using backend SequentialBackend with 1 concurrent workers.\n",
      "[Parallel(n_jobs=1)]: Done   1 out of   1 | elapsed:    0.0s remaining:    0.0s\n"
     ]
    },
    {
     "name": "stdout",
     "output_type": "stream",
     "text": [
      "[CV] ..... metric=euclidean, n_neighbors=1, score=0.715, total=   0.1s\n",
      "[CV] metric=euclidean, n_neighbors=1 .................................\n",
      "[CV] ..... metric=euclidean, n_neighbors=1, score=0.723, total=   0.1s\n",
      "[CV] metric=euclidean, n_neighbors=1 .................................\n",
      "[CV] ..... metric=euclidean, n_neighbors=1, score=0.697, total=   0.1s\n",
      "[CV] metric=euclidean, n_neighbors=1 .................................\n"
     ]
    },
    {
     "name": "stderr",
     "output_type": "stream",
     "text": [
      "[Parallel(n_jobs=1)]: Done   2 out of   2 | elapsed:    0.1s remaining:    0.0s\n"
     ]
    },
    {
     "name": "stdout",
     "output_type": "stream",
     "text": [
      "[CV] ..... metric=euclidean, n_neighbors=1, score=0.706, total=   0.1s\n",
      "[CV] metric=euclidean, n_neighbors=2 .................................\n",
      "[CV] ..... metric=euclidean, n_neighbors=2, score=0.753, total=   0.1s\n",
      "[CV] metric=euclidean, n_neighbors=2 .................................\n",
      "[CV] ..... metric=euclidean, n_neighbors=2, score=0.753, total=   0.1s\n",
      "[CV] metric=euclidean, n_neighbors=2 .................................\n",
      "[CV] ..... metric=euclidean, n_neighbors=2, score=0.752, total=   0.1s\n",
      "[CV] metric=euclidean, n_neighbors=2 .................................\n",
      "[CV] ..... metric=euclidean, n_neighbors=2, score=0.755, total=   0.1s\n",
      "[CV] metric=euclidean, n_neighbors=2 .................................\n",
      "[CV] ..... metric=euclidean, n_neighbors=2, score=0.743, total=   0.1s\n",
      "[CV] metric=euclidean, n_neighbors=3 .................................\n",
      "[CV] ..... metric=euclidean, n_neighbors=3, score=0.728, total=   0.1s\n",
      "[CV] metric=euclidean, n_neighbors=3 .................................\n",
      "[CV] ..... metric=euclidean, n_neighbors=3, score=0.745, total=   0.1s\n",
      "[CV] metric=euclidean, n_neighbors=3 .................................\n",
      "[CV] ..... metric=euclidean, n_neighbors=3, score=0.734, total=   0.1s\n",
      "[CV] metric=euclidean, n_neighbors=3 .................................\n",
      "[CV] ..... metric=euclidean, n_neighbors=3, score=0.738, total=   0.1s\n",
      "[CV] metric=euclidean, n_neighbors=3 .................................\n",
      "[CV] ..... metric=euclidean, n_neighbors=3, score=0.736, total=   0.1s\n",
      "[CV] metric=euclidean, n_neighbors=4 .................................\n",
      "[CV] ..... metric=euclidean, n_neighbors=4, score=0.760, total=   0.1s\n",
      "[CV] metric=euclidean, n_neighbors=4 .................................\n",
      "[CV] ..... metric=euclidean, n_neighbors=4, score=0.770, total=   0.1s\n",
      "[CV] metric=euclidean, n_neighbors=4 .................................\n",
      "[CV] ..... metric=euclidean, n_neighbors=4, score=0.772, total=   0.1s\n",
      "[CV] metric=euclidean, n_neighbors=4 .................................\n",
      "[CV] ..... metric=euclidean, n_neighbors=4, score=0.765, total=   0.1s\n",
      "[CV] metric=euclidean, n_neighbors=4 .................................\n",
      "[CV] ..... metric=euclidean, n_neighbors=4, score=0.741, total=   0.1s\n",
      "[CV] metric=euclidean, n_neighbors=5 .................................\n",
      "[CV] ..... metric=euclidean, n_neighbors=5, score=0.756, total=   0.1s\n",
      "[CV] metric=euclidean, n_neighbors=5 .................................\n",
      "[CV] ..... metric=euclidean, n_neighbors=5, score=0.762, total=   0.1s\n",
      "[CV] metric=euclidean, n_neighbors=5 .................................\n",
      "[CV] ..... metric=euclidean, n_neighbors=5, score=0.755, total=   0.1s\n",
      "[CV] metric=euclidean, n_neighbors=5 .................................\n",
      "[CV] ..... metric=euclidean, n_neighbors=5, score=0.755, total=   0.1s\n",
      "[CV] metric=euclidean, n_neighbors=5 .................................\n",
      "[CV] ..... metric=euclidean, n_neighbors=5, score=0.742, total=   0.1s\n",
      "[CV] metric=euclidean, n_neighbors=6 .................................\n",
      "[CV] ..... metric=euclidean, n_neighbors=6, score=0.768, total=   0.1s\n",
      "[CV] metric=euclidean, n_neighbors=6 .................................\n",
      "[CV] ..... metric=euclidean, n_neighbors=6, score=0.773, total=   0.1s\n",
      "[CV] metric=euclidean, n_neighbors=6 .................................\n",
      "[CV] ..... metric=euclidean, n_neighbors=6, score=0.757, total=   0.1s\n",
      "[CV] metric=euclidean, n_neighbors=6 .................................\n",
      "[CV] ..... metric=euclidean, n_neighbors=6, score=0.769, total=   0.1s\n",
      "[CV] metric=euclidean, n_neighbors=6 .................................\n",
      "[CV] ..... metric=euclidean, n_neighbors=6, score=0.749, total=   0.1s\n",
      "[CV] metric=euclidean, n_neighbors=7 .................................\n",
      "[CV] ..... metric=euclidean, n_neighbors=7, score=0.761, total=   0.1s\n",
      "[CV] metric=euclidean, n_neighbors=7 .................................\n",
      "[CV] ..... metric=euclidean, n_neighbors=7, score=0.770, total=   0.1s\n",
      "[CV] metric=euclidean, n_neighbors=7 .................................\n",
      "[CV] ..... metric=euclidean, n_neighbors=7, score=0.764, total=   0.1s\n",
      "[CV] metric=euclidean, n_neighbors=7 .................................\n",
      "[CV] ..... metric=euclidean, n_neighbors=7, score=0.762, total=   0.1s\n",
      "[CV] metric=euclidean, n_neighbors=7 .................................\n",
      "[CV] ..... metric=euclidean, n_neighbors=7, score=0.758, total=   0.1s\n",
      "[CV] metric=euclidean, n_neighbors=8 .................................\n",
      "[CV] ..... metric=euclidean, n_neighbors=8, score=0.776, total=   0.1s\n",
      "[CV] metric=euclidean, n_neighbors=8 .................................\n",
      "[CV] ..... metric=euclidean, n_neighbors=8, score=0.774, total=   0.1s\n",
      "[CV] metric=euclidean, n_neighbors=8 .................................\n",
      "[CV] ..... metric=euclidean, n_neighbors=8, score=0.772, total=   0.1s\n",
      "[CV] metric=euclidean, n_neighbors=8 .................................\n",
      "[CV] ..... metric=euclidean, n_neighbors=8, score=0.778, total=   0.1s\n",
      "[CV] metric=euclidean, n_neighbors=8 .................................\n",
      "[CV] ..... metric=euclidean, n_neighbors=8, score=0.755, total=   0.1s\n",
      "[CV] metric=euclidean, n_neighbors=9 .................................\n",
      "[CV] ..... metric=euclidean, n_neighbors=9, score=0.763, total=   0.1s\n",
      "[CV] metric=euclidean, n_neighbors=9 .................................\n",
      "[CV] ..... metric=euclidean, n_neighbors=9, score=0.771, total=   0.1s\n",
      "[CV] metric=euclidean, n_neighbors=9 .................................\n",
      "[CV] ..... metric=euclidean, n_neighbors=9, score=0.765, total=   0.1s\n",
      "[CV] metric=euclidean, n_neighbors=9 .................................\n",
      "[CV] ..... metric=euclidean, n_neighbors=9, score=0.773, total=   0.1s\n",
      "[CV] metric=euclidean, n_neighbors=9 .................................\n",
      "[CV] ..... metric=euclidean, n_neighbors=9, score=0.747, total=   0.1s\n",
      "[CV] metric=euclidean, n_neighbors=10 ................................\n",
      "[CV] .... metric=euclidean, n_neighbors=10, score=0.775, total=   0.1s\n",
      "[CV] metric=euclidean, n_neighbors=10 ................................\n",
      "[CV] .... metric=euclidean, n_neighbors=10, score=0.780, total=   0.1s\n",
      "[CV] metric=euclidean, n_neighbors=10 ................................\n",
      "[CV] .... metric=euclidean, n_neighbors=10, score=0.784, total=   0.1s\n",
      "[CV] metric=euclidean, n_neighbors=10 ................................\n",
      "[CV] .... metric=euclidean, n_neighbors=10, score=0.770, total=   0.1s\n",
      "[CV] metric=euclidean, n_neighbors=10 ................................\n",
      "[CV] .... metric=euclidean, n_neighbors=10, score=0.749, total=   0.1s\n",
      "[CV] metric=euclidean, n_neighbors=11 ................................\n",
      "[CV] .... metric=euclidean, n_neighbors=11, score=0.757, total=   0.1s\n",
      "[CV] metric=euclidean, n_neighbors=11 ................................\n",
      "[CV] .... metric=euclidean, n_neighbors=11, score=0.780, total=   0.1s\n",
      "[CV] metric=euclidean, n_neighbors=11 ................................\n",
      "[CV] .... metric=euclidean, n_neighbors=11, score=0.772, total=   0.1s\n",
      "[CV] metric=euclidean, n_neighbors=11 ................................\n",
      "[CV] .... metric=euclidean, n_neighbors=11, score=0.771, total=   0.1s\n",
      "[CV] metric=euclidean, n_neighbors=11 ................................\n",
      "[CV] .... metric=euclidean, n_neighbors=11, score=0.750, total=   0.1s\n",
      "[CV] metric=euclidean, n_neighbors=12 ................................\n",
      "[CV] .... metric=euclidean, n_neighbors=12, score=0.763, total=   0.1s\n",
      "[CV] metric=euclidean, n_neighbors=12 ................................\n",
      "[CV] .... metric=euclidean, n_neighbors=12, score=0.774, total=   0.1s\n",
      "[CV] metric=euclidean, n_neighbors=12 ................................\n",
      "[CV] .... metric=euclidean, n_neighbors=12, score=0.779, total=   0.1s\n",
      "[CV] metric=euclidean, n_neighbors=12 ................................\n",
      "[CV] .... metric=euclidean, n_neighbors=12, score=0.779, total=   0.1s\n",
      "[CV] metric=euclidean, n_neighbors=12 ................................\n",
      "[CV] .... metric=euclidean, n_neighbors=12, score=0.761, total=   0.1s\n",
      "[CV] metric=euclidean, n_neighbors=13 ................................\n",
      "[CV] .... metric=euclidean, n_neighbors=13, score=0.746, total=   0.1s\n",
      "[CV] metric=euclidean, n_neighbors=13 ................................\n",
      "[CV] .... metric=euclidean, n_neighbors=13, score=0.773, total=   0.1s\n",
      "[CV] metric=euclidean, n_neighbors=13 ................................\n",
      "[CV] .... metric=euclidean, n_neighbors=13, score=0.776, total=   0.1s\n",
      "[CV] metric=euclidean, n_neighbors=13 ................................\n"
     ]
    },
    {
     "name": "stdout",
     "output_type": "stream",
     "text": [
      "[CV] .... metric=euclidean, n_neighbors=13, score=0.782, total=   0.2s\n",
      "[CV] metric=euclidean, n_neighbors=13 ................................\n",
      "[CV] .... metric=euclidean, n_neighbors=13, score=0.765, total=   0.1s\n",
      "[CV] metric=euclidean, n_neighbors=14 ................................\n",
      "[CV] .... metric=euclidean, n_neighbors=14, score=0.760, total=   0.1s\n",
      "[CV] metric=euclidean, n_neighbors=14 ................................\n",
      "[CV] .... metric=euclidean, n_neighbors=14, score=0.770, total=   0.1s\n",
      "[CV] metric=euclidean, n_neighbors=14 ................................\n",
      "[CV] .... metric=euclidean, n_neighbors=14, score=0.783, total=   0.1s\n",
      "[CV] metric=euclidean, n_neighbors=14 ................................\n",
      "[CV] .... metric=euclidean, n_neighbors=14, score=0.786, total=   0.1s\n",
      "[CV] metric=euclidean, n_neighbors=14 ................................\n",
      "[CV] .... metric=euclidean, n_neighbors=14, score=0.765, total=   0.1s\n",
      "[CV] metric=euclidean, n_neighbors=15 ................................\n",
      "[CV] .... metric=euclidean, n_neighbors=15, score=0.754, total=   0.2s\n",
      "[CV] metric=euclidean, n_neighbors=15 ................................\n",
      "[CV] .... metric=euclidean, n_neighbors=15, score=0.773, total=   0.2s\n",
      "[CV] metric=euclidean, n_neighbors=15 ................................\n",
      "[CV] .... metric=euclidean, n_neighbors=15, score=0.773, total=   0.2s\n",
      "[CV] metric=euclidean, n_neighbors=15 ................................\n",
      "[CV] .... metric=euclidean, n_neighbors=15, score=0.788, total=   0.2s\n",
      "[CV] metric=euclidean, n_neighbors=15 ................................\n",
      "[CV] .... metric=euclidean, n_neighbors=15, score=0.765, total=   0.2s\n",
      "[CV] metric=manhattan, n_neighbors=1 .................................\n",
      "[CV] ..... metric=manhattan, n_neighbors=1, score=0.727, total=   0.1s\n",
      "[CV] metric=manhattan, n_neighbors=1 .................................\n",
      "[CV] ..... metric=manhattan, n_neighbors=1, score=0.718, total=   0.1s\n",
      "[CV] metric=manhattan, n_neighbors=1 .................................\n",
      "[CV] ..... metric=manhattan, n_neighbors=1, score=0.728, total=   0.1s\n",
      "[CV] metric=manhattan, n_neighbors=1 .................................\n",
      "[CV] ..... metric=manhattan, n_neighbors=1, score=0.702, total=   0.1s\n",
      "[CV] metric=manhattan, n_neighbors=1 .................................\n",
      "[CV] ..... metric=manhattan, n_neighbors=1, score=0.715, total=   0.1s\n",
      "[CV] metric=manhattan, n_neighbors=2 .................................\n",
      "[CV] ..... metric=manhattan, n_neighbors=2, score=0.754, total=   0.1s\n",
      "[CV] metric=manhattan, n_neighbors=2 .................................\n",
      "[CV] ..... metric=manhattan, n_neighbors=2, score=0.754, total=   0.1s\n",
      "[CV] metric=manhattan, n_neighbors=2 .................................\n",
      "[CV] ..... metric=manhattan, n_neighbors=2, score=0.757, total=   0.1s\n",
      "[CV] metric=manhattan, n_neighbors=2 .................................\n",
      "[CV] ..... metric=manhattan, n_neighbors=2, score=0.748, total=   0.1s\n",
      "[CV] metric=manhattan, n_neighbors=2 .................................\n",
      "[CV] ..... metric=manhattan, n_neighbors=2, score=0.753, total=   0.1s\n",
      "[CV] metric=manhattan, n_neighbors=3 .................................\n",
      "[CV] ..... metric=manhattan, n_neighbors=3, score=0.747, total=   0.1s\n",
      "[CV] metric=manhattan, n_neighbors=3 .................................\n",
      "[CV] ..... metric=manhattan, n_neighbors=3, score=0.757, total=   0.1s\n",
      "[CV] metric=manhattan, n_neighbors=3 .................................\n",
      "[CV] ..... metric=manhattan, n_neighbors=3, score=0.752, total=   0.1s\n",
      "[CV] metric=manhattan, n_neighbors=3 .................................\n",
      "[CV] ..... metric=manhattan, n_neighbors=3, score=0.738, total=   0.1s\n",
      "[CV] metric=manhattan, n_neighbors=3 .................................\n",
      "[CV] ..... metric=manhattan, n_neighbors=3, score=0.740, total=   0.1s\n",
      "[CV] metric=manhattan, n_neighbors=4 .................................\n",
      "[CV] ..... metric=manhattan, n_neighbors=4, score=0.772, total=   0.1s\n",
      "[CV] metric=manhattan, n_neighbors=4 .................................\n",
      "[CV] ..... metric=manhattan, n_neighbors=4, score=0.770, total=   0.1s\n",
      "[CV] metric=manhattan, n_neighbors=4 .................................\n",
      "[CV] ..... metric=manhattan, n_neighbors=4, score=0.773, total=   0.1s\n",
      "[CV] metric=manhattan, n_neighbors=4 .................................\n",
      "[CV] ..... metric=manhattan, n_neighbors=4, score=0.779, total=   0.1s\n",
      "[CV] metric=manhattan, n_neighbors=4 .................................\n",
      "[CV] ..... metric=manhattan, n_neighbors=4, score=0.754, total=   0.1s\n",
      "[CV] metric=manhattan, n_neighbors=5 .................................\n",
      "[CV] ..... metric=manhattan, n_neighbors=5, score=0.758, total=   0.1s\n",
      "[CV] metric=manhattan, n_neighbors=5 .................................\n",
      "[CV] ..... metric=manhattan, n_neighbors=5, score=0.750, total=   0.1s\n",
      "[CV] metric=manhattan, n_neighbors=5 .................................\n",
      "[CV] ..... metric=manhattan, n_neighbors=5, score=0.761, total=   0.1s\n",
      "[CV] metric=manhattan, n_neighbors=5 .................................\n",
      "[CV] ..... metric=manhattan, n_neighbors=5, score=0.767, total=   0.1s\n",
      "[CV] metric=manhattan, n_neighbors=5 .................................\n",
      "[CV] ..... metric=manhattan, n_neighbors=5, score=0.744, total=   0.1s\n",
      "[CV] metric=manhattan, n_neighbors=6 .................................\n",
      "[CV] ..... metric=manhattan, n_neighbors=6, score=0.770, total=   0.1s\n",
      "[CV] metric=manhattan, n_neighbors=6 .................................\n",
      "[CV] ..... metric=manhattan, n_neighbors=6, score=0.769, total=   0.1s\n",
      "[CV] metric=manhattan, n_neighbors=6 .................................\n",
      "[CV] ..... metric=manhattan, n_neighbors=6, score=0.773, total=   0.1s\n",
      "[CV] metric=manhattan, n_neighbors=6 .................................\n",
      "[CV] ..... metric=manhattan, n_neighbors=6, score=0.779, total=   0.1s\n",
      "[CV] metric=manhattan, n_neighbors=6 .................................\n",
      "[CV] ..... metric=manhattan, n_neighbors=6, score=0.753, total=   0.1s\n",
      "[CV] metric=manhattan, n_neighbors=7 .................................\n",
      "[CV] ..... metric=manhattan, n_neighbors=7, score=0.771, total=   0.1s\n",
      "[CV] metric=manhattan, n_neighbors=7 .................................\n",
      "[CV] ..... metric=manhattan, n_neighbors=7, score=0.781, total=   0.1s\n",
      "[CV] metric=manhattan, n_neighbors=7 .................................\n",
      "[CV] ..... metric=manhattan, n_neighbors=7, score=0.768, total=   0.1s\n",
      "[CV] metric=manhattan, n_neighbors=7 .................................\n",
      "[CV] ..... metric=manhattan, n_neighbors=7, score=0.768, total=   0.1s\n",
      "[CV] metric=manhattan, n_neighbors=7 .................................\n",
      "[CV] ..... metric=manhattan, n_neighbors=7, score=0.755, total=   0.1s\n",
      "[CV] metric=manhattan, n_neighbors=8 .................................\n",
      "[CV] ..... metric=manhattan, n_neighbors=8, score=0.783, total=   0.1s\n",
      "[CV] metric=manhattan, n_neighbors=8 .................................\n",
      "[CV] ..... metric=manhattan, n_neighbors=8, score=0.780, total=   0.1s\n",
      "[CV] metric=manhattan, n_neighbors=8 .................................\n",
      "[CV] ..... metric=manhattan, n_neighbors=8, score=0.782, total=   0.1s\n",
      "[CV] metric=manhattan, n_neighbors=8 .................................\n",
      "[CV] ..... metric=manhattan, n_neighbors=8, score=0.783, total=   0.1s\n",
      "[CV] metric=manhattan, n_neighbors=8 .................................\n",
      "[CV] ..... metric=manhattan, n_neighbors=8, score=0.765, total=   0.1s\n",
      "[CV] metric=manhattan, n_neighbors=9 .................................\n",
      "[CV] ..... metric=manhattan, n_neighbors=9, score=0.763, total=   0.1s\n",
      "[CV] metric=manhattan, n_neighbors=9 .................................\n",
      "[CV] ..... metric=manhattan, n_neighbors=9, score=0.776, total=   0.1s\n",
      "[CV] metric=manhattan, n_neighbors=9 .................................\n",
      "[CV] ..... metric=manhattan, n_neighbors=9, score=0.770, total=   0.1s\n",
      "[CV] metric=manhattan, n_neighbors=9 .................................\n",
      "[CV] ..... metric=manhattan, n_neighbors=9, score=0.775, total=   0.1s\n",
      "[CV] metric=manhattan, n_neighbors=9 .................................\n",
      "[CV] ..... metric=manhattan, n_neighbors=9, score=0.768, total=   0.1s\n",
      "[CV] metric=manhattan, n_neighbors=10 ................................\n",
      "[CV] .... metric=manhattan, n_neighbors=10, score=0.774, total=   0.1s\n",
      "[CV] metric=manhattan, n_neighbors=10 ................................\n",
      "[CV] .... metric=manhattan, n_neighbors=10, score=0.786, total=   0.1s\n",
      "[CV] metric=manhattan, n_neighbors=10 ................................\n"
     ]
    },
    {
     "name": "stdout",
     "output_type": "stream",
     "text": [
      "[CV] .... metric=manhattan, n_neighbors=10, score=0.782, total=   0.1s\n",
      "[CV] metric=manhattan, n_neighbors=10 ................................\n",
      "[CV] .... metric=manhattan, n_neighbors=10, score=0.787, total=   0.1s\n",
      "[CV] metric=manhattan, n_neighbors=10 ................................\n",
      "[CV] .... metric=manhattan, n_neighbors=10, score=0.772, total=   0.1s\n",
      "[CV] metric=manhattan, n_neighbors=11 ................................\n",
      "[CV] .... metric=manhattan, n_neighbors=11, score=0.771, total=   0.1s\n",
      "[CV] metric=manhattan, n_neighbors=11 ................................\n",
      "[CV] .... metric=manhattan, n_neighbors=11, score=0.787, total=   0.1s\n",
      "[CV] metric=manhattan, n_neighbors=11 ................................\n",
      "[CV] .... metric=manhattan, n_neighbors=11, score=0.778, total=   0.1s\n",
      "[CV] metric=manhattan, n_neighbors=11 ................................\n",
      "[CV] .... metric=manhattan, n_neighbors=11, score=0.777, total=   0.1s\n",
      "[CV] metric=manhattan, n_neighbors=11 ................................\n",
      "[CV] .... metric=manhattan, n_neighbors=11, score=0.767, total=   0.1s\n",
      "[CV] metric=manhattan, n_neighbors=12 ................................\n",
      "[CV] .... metric=manhattan, n_neighbors=12, score=0.771, total=   0.1s\n",
      "[CV] metric=manhattan, n_neighbors=12 ................................\n",
      "[CV] .... metric=manhattan, n_neighbors=12, score=0.796, total=   0.1s\n",
      "[CV] metric=manhattan, n_neighbors=12 ................................\n",
      "[CV] .... metric=manhattan, n_neighbors=12, score=0.778, total=   0.1s\n",
      "[CV] metric=manhattan, n_neighbors=12 ................................\n",
      "[CV] .... metric=manhattan, n_neighbors=12, score=0.791, total=   0.1s\n",
      "[CV] metric=manhattan, n_neighbors=12 ................................\n",
      "[CV] .... metric=manhattan, n_neighbors=12, score=0.769, total=   0.1s\n",
      "[CV] metric=manhattan, n_neighbors=13 ................................\n",
      "[CV] .... metric=manhattan, n_neighbors=13, score=0.765, total=   0.1s\n",
      "[CV] metric=manhattan, n_neighbors=13 ................................\n",
      "[CV] .... metric=manhattan, n_neighbors=13, score=0.795, total=   0.1s\n",
      "[CV] metric=manhattan, n_neighbors=13 ................................\n",
      "[CV] .... metric=manhattan, n_neighbors=13, score=0.780, total=   0.1s\n",
      "[CV] metric=manhattan, n_neighbors=13 ................................\n",
      "[CV] .... metric=manhattan, n_neighbors=13, score=0.783, total=   0.1s\n",
      "[CV] metric=manhattan, n_neighbors=13 ................................\n",
      "[CV] .... metric=manhattan, n_neighbors=13, score=0.767, total=   0.1s\n",
      "[CV] metric=manhattan, n_neighbors=14 ................................\n",
      "[CV] .... metric=manhattan, n_neighbors=14, score=0.775, total=   0.1s\n",
      "[CV] metric=manhattan, n_neighbors=14 ................................\n",
      "[CV] .... metric=manhattan, n_neighbors=14, score=0.804, total=   0.1s\n",
      "[CV] metric=manhattan, n_neighbors=14 ................................\n",
      "[CV] .... metric=manhattan, n_neighbors=14, score=0.788, total=   0.1s\n",
      "[CV] metric=manhattan, n_neighbors=14 ................................\n",
      "[CV] .... metric=manhattan, n_neighbors=14, score=0.794, total=   0.1s\n",
      "[CV] metric=manhattan, n_neighbors=14 ................................\n",
      "[CV] .... metric=manhattan, n_neighbors=14, score=0.771, total=   0.1s\n",
      "[CV] metric=manhattan, n_neighbors=15 ................................\n",
      "[CV] .... metric=manhattan, n_neighbors=15, score=0.767, total=   0.1s\n",
      "[CV] metric=manhattan, n_neighbors=15 ................................\n",
      "[CV] .... metric=manhattan, n_neighbors=15, score=0.787, total=   0.1s\n",
      "[CV] metric=manhattan, n_neighbors=15 ................................\n",
      "[CV] .... metric=manhattan, n_neighbors=15, score=0.789, total=   0.1s\n",
      "[CV] metric=manhattan, n_neighbors=15 ................................\n",
      "[CV] .... metric=manhattan, n_neighbors=15, score=0.785, total=   0.1s\n",
      "[CV] metric=manhattan, n_neighbors=15 ................................\n",
      "[CV] .... metric=manhattan, n_neighbors=15, score=0.777, total=   0.1s\n",
      "Best: 0.786497 using {'metric': 'manhattan', 'n_neighbors': 14}\n",
      "0.712172 (0.009750) with: {'metric': 'euclidean', 'n_neighbors': 1}\n",
      "0.750852 (0.004089) with: {'metric': 'euclidean', 'n_neighbors': 2}\n",
      "0.736253 (0.005604) with: {'metric': 'euclidean', 'n_neighbors': 3}\n",
      "0.761467 (0.010975) with: {'metric': 'euclidean', 'n_neighbors': 4}\n",
      "0.754264 (0.006641) with: {'metric': 'euclidean', 'n_neighbors': 5}\n",
      "0.763175 (0.008997) with: {'metric': 'euclidean', 'n_neighbors': 6}\n",
      "0.762987 (0.003849) with: {'metric': 'euclidean', 'n_neighbors': 7}\n",
      "0.771138 (0.008257) with: {'metric': 'euclidean', 'n_neighbors': 8}\n",
      "0.763743 (0.009325) with: {'metric': 'euclidean', 'n_neighbors': 9}\n",
      "0.771516 (0.012418) with: {'metric': 'euclidean', 'n_neighbors': 10}\n",
      "0.766019 (0.010648) with: {'metric': 'euclidean', 'n_neighbors': 11}\n",
      "0.771329 (0.007862) with: {'metric': 'euclidean', 'n_neighbors': 12}\n",
      "0.768486 (0.012565) with: {'metric': 'euclidean', 'n_neighbors': 13}\n",
      "0.772657 (0.010055) with: {'metric': 'euclidean', 'n_neighbors': 14}\n",
      "0.770572 (0.011254) with: {'metric': 'euclidean', 'n_neighbors': 15}\n",
      "0.718240 (0.009292) with: {'metric': 'manhattan', 'n_neighbors': 1}\n",
      "0.753129 (0.003029) with: {'metric': 'manhattan', 'n_neighbors': 2}\n",
      "0.746870 (0.007089) with: {'metric': 'manhattan', 'n_neighbors': 3}\n",
      "0.769622 (0.008306) with: {'metric': 'manhattan', 'n_neighbors': 4}\n",
      "0.755970 (0.008195) with: {'metric': 'manhattan', 'n_neighbors': 5}\n",
      "0.768674 (0.008499) with: {'metric': 'manhattan', 'n_neighbors': 6}\n",
      "0.768484 (0.008237) with: {'metric': 'manhattan', 'n_neighbors': 7}\n",
      "0.778534 (0.006991) with: {'metric': 'manhattan', 'n_neighbors': 8}\n",
      "0.770382 (0.004946) with: {'metric': 'manhattan', 'n_neighbors': 9}\n",
      "0.780241 (0.005883) with: {'metric': 'manhattan', 'n_neighbors': 10}\n",
      "0.775880 (0.006910) with: {'metric': 'manhattan', 'n_neighbors': 11}\n",
      "0.780809 (0.010897) with: {'metric': 'manhattan', 'n_neighbors': 12}\n",
      "0.777965 (0.011202) with: {'metric': 'manhattan', 'n_neighbors': 13}\n",
      "0.786497 (0.011960) with: {'metric': 'manhattan', 'n_neighbors': 14}\n",
      "0.780811 (0.008027) with: {'metric': 'manhattan', 'n_neighbors': 15}\n"
     ]
    },
    {
     "name": "stderr",
     "output_type": "stream",
     "text": [
      "[Parallel(n_jobs=1)]: Done 150 out of 150 | elapsed:   17.7s finished\n"
     ]
    }
   ],
   "source": [
    "#Hyperparameter Tuning for K Neighbors Classifier using GridSearchCV\n",
    "from sklearn.model_selection import GridSearchCV\n",
    " \n",
    "# defining parameter range\n",
    "metrics = ['euclidean','manhattan'] \n",
    "neighbors = np.arange(1, 16)\n",
    "param_grid  = dict(metric=metrics, n_neighbors=neighbors)\n",
    " \n",
    "grid_search = GridSearchCV(KNeighborsClassifier(), param_grid, refit = True, verbose = 3)\n",
    " \n",
    "# fitting the model for grid search\n",
    "grid_result = grid_search.fit(X_train, y_train)\n",
    "\n",
    "# summarize results\n",
    "print(\"Best: %f using %s\" % (grid_result.best_score_, grid_result.best_params_))\n",
    "means = grid_result.cv_results_['mean_test_score']\n",
    "stds = grid_result.cv_results_['std_test_score']\n",
    "params = grid_result.cv_results_['params']\n",
    "for mean, stdev, param in zip(means, stds, params):\n",
    "    print(\"%f (%f) with: %r\" % (mean, stdev, param))"
   ]
  },
  {
   "cell_type": "code",
   "execution_count": 38,
   "metadata": {},
   "outputs": [
    {
     "data": {
      "image/png": "[encoded data removed]",
      "text/plain": [
       "<Figure size 1080x504 with 1 Axes>"
      ]
     },
     "metadata": {},
     "output_type": "display_data"
    },
    {
     "data": {
      "text/plain": [
       "<AxesSubplot:title={'center':'KNeighborsClassifier Confusion Matrix'}, xlabel='Predicted Class', ylabel='True Class'>"
      ]
     },
     "execution_count": 38,
     "metadata": {},
     "output_type": "execute_result"
    }
   ],
   "source": [
    "#Create a model instance using K Neighbors Classifier\n",
    "model = KNeighborsClassifier(metric='manhattan', n_neighbors=14)\n",
    "\n",
    "# Create Confusion Matrix\n",
    "classes = ['No_Churn','Churn']\n",
    "cm = ConfusionMatrix(model, classes=classes, percent=False)\n",
    "\n",
    "# Fit the model\n",
    "cm.fit(X_train, y_train)\n",
    "\n",
    "# Create confusion matric scores\n",
    "cm.score(X_val, y_val)\n",
    "\n",
    "# change fontsize of the labels in the figure\n",
    "for label in cm.ax.texts:\n",
    "    label.set_size(20)\n",
    "\n",
    "# Display\n",
    "cm.poof()"
   ]
  },
  {
   "cell_type": "code",
   "execution_count": 39,
   "metadata": {},
   "outputs": [
    {
     "data": {
      "image/png": "[encoded data removed]",
      "text/plain": [
       "<Figure size 1080x504 with 2 Axes>"
      ]
     },
     "metadata": {},
     "output_type": "display_data"
    }
   ],
   "source": [
    "# Precision, Recall, and F1 Score\n",
    "# Set the size of the figure and the font size \n",
    "plt.rcParams['figure.figsize'] = (15, 7)\n",
    "plt.rcParams['font.size'] = 20\n",
    "\n",
    "# Instantiate the visualizer\n",
    "visualizer = ClassificationReport(model, classes=classes)\n",
    "\n",
    "# Fit the training data and evaluate using test data\n",
    "visualizer.fit(X_train, y_train)\n",
    "visualizer.score(X_val, y_val)\n",
    "\n",
    "# Display\n",
    "g = visualizer.poof()"
   ]
  },
  {
   "cell_type": "code",
   "execution_count": 40,
   "metadata": {},
   "outputs": [
    {
     "name": "stdout",
     "output_type": "stream",
     "text": [
      "Accuracy = 0.7792946530147895\n"
     ]
    }
   ],
   "source": [
    "# Use score method to get accuracy of model\n",
    "score = model.score(X_val, y_val)\n",
    "print(\"Accuracy =\", score)"
   ]
  },
  {
   "cell_type": "markdown",
   "metadata": {},
   "source": [
    "### Support Vector Classifier"
   ]
  },
  {
   "cell_type": "code",
   "execution_count": 41,
   "metadata": {},
   "outputs": [
    {
     "data": {
      "image/png": "[encoded data removed]",
      "text/plain": [
       "<Figure size 1080x504 with 1 Axes>"
      ]
     },
     "metadata": {},
     "output_type": "display_data"
    },
    {
     "data": {
      "text/plain": [
       "<AxesSubplot:title={'center':'SVC Confusion Matrix'}, xlabel='Predicted Class', ylabel='True Class'>"
      ]
     },
     "execution_count": 41,
     "metadata": {},
     "output_type": "execute_result"
    }
   ],
   "source": [
    "# Import Support Vector Classifier \n",
    "from sklearn.svm import SVC\n",
    "\n",
    "#Create a model instance using Support Vector Classifier\n",
    "model = SVC()\n",
    "\n",
    "# Create Confusion Matrix\n",
    "classes = ['No_Churn','Churn']\n",
    "cm = ConfusionMatrix(model, classes=classes, percent=False)\n",
    "\n",
    "# Fit the model\n",
    "cm.fit(X_train, y_train)\n",
    "\n",
    "# Create confusion matric scores\n",
    "cm.score(X_val, y_val)\n",
    "\n",
    "# change fontsize of the labels in the figure\n",
    "for label in cm.ax.texts:\n",
    "    label.set_size(20)\n",
    "\n",
    "# Display\n",
    "cm.poof()"
   ]
  },
  {
   "cell_type": "code",
   "execution_count": 42,
   "metadata": {},
   "outputs": [
    {
     "data": {
      "image/png": "[encoded data removed]",
      "text/plain": [
       "<Figure size 1080x504 with 2 Axes>"
      ]
     },
     "metadata": {},
     "output_type": "display_data"
    }
   ],
   "source": [
    "# Precision, Recall, and F1 Score\n",
    "# Set the size of the figure and the font size \n",
    "plt.rcParams['figure.figsize'] = (15, 7)\n",
    "plt.rcParams['font.size'] = 20\n",
    "\n",
    "# Instantiate the visualizer\n",
    "visualizer = ClassificationReport(model, classes=classes)\n",
    "\n",
    "# Fit the training data and evaluate using test data\n",
    "visualizer.fit(X_train, y_train)\n",
    "visualizer.score(X_val, y_val)\n",
    "\n",
    "# Display\n",
    "g = visualizer.poof()"
   ]
  },
  {
   "cell_type": "code",
   "execution_count": 43,
   "metadata": {},
   "outputs": [
    {
     "name": "stdout",
     "output_type": "stream",
     "text": [
      "Accuracy = 0.7935153583617748\n"
     ]
    }
   ],
   "source": [
    "# Use score method to get accuracy of model\n",
    "score = model.score(X_val, y_val)\n",
    "print(\"Accuracy =\", score)"
   ]
  },
  {
   "cell_type": "code",
   "execution_count": 44,
   "metadata": {},
   "outputs": [
    {
     "name": "stdout",
     "output_type": "stream",
     "text": [
      "Fitting 5 folds for each of 25 candidates, totalling 125 fits\n",
      "[CV] C=0.1, gamma=1, kernel=rbf ......................................\n"
     ]
    },
    {
     "name": "stderr",
     "output_type": "stream",
     "text": [
      "[Parallel(n_jobs=1)]: Using backend SequentialBackend with 1 concurrent workers.\n"
     ]
    },
    {
     "name": "stdout",
     "output_type": "stream",
     "text": [
      "[CV] .......... C=0.1, gamma=1, kernel=rbf, score=0.733, total=   0.7s\n",
      "[CV] C=0.1, gamma=1, kernel=rbf ......................................\n"
     ]
    },
    {
     "name": "stderr",
     "output_type": "stream",
     "text": [
      "[Parallel(n_jobs=1)]: Done   1 out of   1 | elapsed:    0.6s remaining:    0.0s\n"
     ]
    },
    {
     "name": "stdout",
     "output_type": "stream",
     "text": [
      "[CV] .......... C=0.1, gamma=1, kernel=rbf, score=0.732, total=   0.7s\n",
      "[CV] C=0.1, gamma=1, kernel=rbf ......................................\n"
     ]
    },
    {
     "name": "stderr",
     "output_type": "stream",
     "text": [
      "[Parallel(n_jobs=1)]: Done   2 out of   2 | elapsed:    1.2s remaining:    0.0s\n"
     ]
    },
    {
     "name": "stdout",
     "output_type": "stream",
     "text": [
      "[CV] .......... C=0.1, gamma=1, kernel=rbf, score=0.732, total=   0.6s\n",
      "[CV] C=0.1, gamma=1, kernel=rbf ......................................\n",
      "[CV] .......... C=0.1, gamma=1, kernel=rbf, score=0.732, total=   0.7s\n",
      "[CV] C=0.1, gamma=1, kernel=rbf ......................................\n",
      "[CV] .......... C=0.1, gamma=1, kernel=rbf, score=0.732, total=   0.7s\n",
      "[CV] C=0.1, gamma=0.1, kernel=rbf ....................................\n",
      "[CV] ........ C=0.1, gamma=0.1, kernel=rbf, score=0.791, total=   0.4s\n",
      "[CV] C=0.1, gamma=0.1, kernel=rbf ....................................\n",
      "[CV] ........ C=0.1, gamma=0.1, kernel=rbf, score=0.775, total=   0.4s\n",
      "[CV] C=0.1, gamma=0.1, kernel=rbf ....................................\n",
      "[CV] ........ C=0.1, gamma=0.1, kernel=rbf, score=0.788, total=   0.4s\n",
      "[CV] C=0.1, gamma=0.1, kernel=rbf ....................................\n",
      "[CV] ........ C=0.1, gamma=0.1, kernel=rbf, score=0.791, total=   0.4s\n",
      "[CV] C=0.1, gamma=0.1, kernel=rbf ....................................\n",
      "[CV] ........ C=0.1, gamma=0.1, kernel=rbf, score=0.781, total=   0.4s\n",
      "[CV] C=0.1, gamma=0.01, kernel=rbf ...................................\n",
      "[CV] ....... C=0.1, gamma=0.01, kernel=rbf, score=0.780, total=   0.4s\n",
      "[CV] C=0.1, gamma=0.01, kernel=rbf ...................................\n",
      "[CV] ....... C=0.1, gamma=0.01, kernel=rbf, score=0.757, total=   0.4s\n",
      "[CV] C=0.1, gamma=0.01, kernel=rbf ...................................\n",
      "[CV] ....... C=0.1, gamma=0.01, kernel=rbf, score=0.755, total=   0.4s\n",
      "[CV] C=0.1, gamma=0.01, kernel=rbf ...................................\n",
      "[CV] ....... C=0.1, gamma=0.01, kernel=rbf, score=0.766, total=   0.4s\n",
      "[CV] C=0.1, gamma=0.01, kernel=rbf ...................................\n",
      "[CV] ....... C=0.1, gamma=0.01, kernel=rbf, score=0.765, total=   0.4s\n",
      "[CV] C=0.1, gamma=0.001, kernel=rbf ..................................\n",
      "[CV] ...... C=0.1, gamma=0.001, kernel=rbf, score=0.733, total=   0.4s\n",
      "[CV] C=0.1, gamma=0.001, kernel=rbf ..................................\n",
      "[CV] ...... C=0.1, gamma=0.001, kernel=rbf, score=0.732, total=   0.4s\n",
      "[CV] C=0.1, gamma=0.001, kernel=rbf ..................................\n",
      "[CV] ...... C=0.1, gamma=0.001, kernel=rbf, score=0.732, total=   0.4s\n",
      "[CV] C=0.1, gamma=0.001, kernel=rbf ..................................\n",
      "[CV] ...... C=0.1, gamma=0.001, kernel=rbf, score=0.732, total=   0.4s\n",
      "[CV] C=0.1, gamma=0.001, kernel=rbf ..................................\n",
      "[CV] ...... C=0.1, gamma=0.001, kernel=rbf, score=0.732, total=   0.4s\n",
      "[CV] C=0.1, gamma=0.0001, kernel=rbf .................................\n",
      "[CV] ..... C=0.1, gamma=0.0001, kernel=rbf, score=0.733, total=   0.4s\n",
      "[CV] C=0.1, gamma=0.0001, kernel=rbf .................................\n",
      "[CV] ..... C=0.1, gamma=0.0001, kernel=rbf, score=0.732, total=   0.4s\n",
      "[CV] C=0.1, gamma=0.0001, kernel=rbf .................................\n",
      "[CV] ..... C=0.1, gamma=0.0001, kernel=rbf, score=0.732, total=   0.4s\n",
      "[CV] C=0.1, gamma=0.0001, kernel=rbf .................................\n",
      "[CV] ..... C=0.1, gamma=0.0001, kernel=rbf, score=0.732, total=   0.4s\n",
      "[CV] C=0.1, gamma=0.0001, kernel=rbf .................................\n",
      "[CV] ..... C=0.1, gamma=0.0001, kernel=rbf, score=0.732, total=   0.4s\n",
      "[CV] C=1, gamma=1, kernel=rbf ........................................\n",
      "[CV] ............ C=1, gamma=1, kernel=rbf, score=0.756, total=   0.7s\n",
      "[CV] C=1, gamma=1, kernel=rbf ........................................\n",
      "[CV] ............ C=1, gamma=1, kernel=rbf, score=0.748, total=   0.7s\n",
      "[CV] C=1, gamma=1, kernel=rbf ........................................\n",
      "[CV] ............ C=1, gamma=1, kernel=rbf, score=0.773, total=   0.7s\n",
      "[CV] C=1, gamma=1, kernel=rbf ........................................\n",
      "[CV] ............ C=1, gamma=1, kernel=rbf, score=0.771, total=   0.7s\n",
      "[CV] C=1, gamma=1, kernel=rbf ........................................\n",
      "[CV] ............ C=1, gamma=1, kernel=rbf, score=0.769, total=   0.7s\n",
      "[CV] C=1, gamma=0.1, kernel=rbf ......................................\n",
      "[CV] .......... C=1, gamma=0.1, kernel=rbf, score=0.788, total=   0.4s\n",
      "[CV] C=1, gamma=0.1, kernel=rbf ......................................\n",
      "[CV] .......... C=1, gamma=0.1, kernel=rbf, score=0.786, total=   0.4s\n",
      "[CV] C=1, gamma=0.1, kernel=rbf ......................................\n",
      "[CV] .......... C=1, gamma=0.1, kernel=rbf, score=0.796, total=   0.4s\n",
      "[CV] C=1, gamma=0.1, kernel=rbf ......................................\n",
      "[CV] .......... C=1, gamma=0.1, kernel=rbf, score=0.802, total=   0.4s\n",
      "[CV] C=1, gamma=0.1, kernel=rbf ......................................\n",
      "[CV] .......... C=1, gamma=0.1, kernel=rbf, score=0.789, total=   0.4s\n",
      "[CV] C=1, gamma=0.01, kernel=rbf .....................................\n",
      "[CV] ......... C=1, gamma=0.01, kernel=rbf, score=0.801, total=   0.3s\n",
      "[CV] C=1, gamma=0.01, kernel=rbf .....................................\n",
      "[CV] ......... C=1, gamma=0.01, kernel=rbf, score=0.799, total=   0.3s\n",
      "[CV] C=1, gamma=0.01, kernel=rbf .....................................\n",
      "[CV] ......... C=1, gamma=0.01, kernel=rbf, score=0.798, total=   0.3s\n",
      "[CV] C=1, gamma=0.01, kernel=rbf .....................................\n",
      "[CV] ......... C=1, gamma=0.01, kernel=rbf, score=0.801, total=   0.3s\n",
      "[CV] C=1, gamma=0.01, kernel=rbf .....................................\n",
      "[CV] ......... C=1, gamma=0.01, kernel=rbf, score=0.794, total=   0.4s\n",
      "[CV] C=1, gamma=0.001, kernel=rbf ....................................\n",
      "[CV] ........ C=1, gamma=0.001, kernel=rbf, score=0.782, total=   0.3s\n",
      "[CV] C=1, gamma=0.001, kernel=rbf ....................................\n",
      "[CV] ........ C=1, gamma=0.001, kernel=rbf, score=0.770, total=   0.4s\n",
      "[CV] C=1, gamma=0.001, kernel=rbf ....................................\n",
      "[CV] ........ C=1, gamma=0.001, kernel=rbf, score=0.755, total=   0.4s\n",
      "[CV] C=1, gamma=0.001, kernel=rbf ....................................\n",
      "[CV] ........ C=1, gamma=0.001, kernel=rbf, score=0.769, total=   0.4s\n",
      "[CV] C=1, gamma=0.001, kernel=rbf ....................................\n",
      "[CV] ........ C=1, gamma=0.001, kernel=rbf, score=0.771, total=   0.3s\n",
      "[CV] C=1, gamma=0.0001, kernel=rbf ...................................\n",
      "[CV] ....... C=1, gamma=0.0001, kernel=rbf, score=0.733, total=   0.4s\n",
      "[CV] C=1, gamma=0.0001, kernel=rbf ...................................\n",
      "[CV] ....... C=1, gamma=0.0001, kernel=rbf, score=0.732, total=   0.4s\n",
      "[CV] C=1, gamma=0.0001, kernel=rbf ...................................\n",
      "[CV] ....... C=1, gamma=0.0001, kernel=rbf, score=0.732, total=   0.4s\n",
      "[CV] C=1, gamma=0.0001, kernel=rbf ...................................\n",
      "[CV] ....... C=1, gamma=0.0001, kernel=rbf, score=0.732, total=   0.4s\n",
      "[CV] C=1, gamma=0.0001, kernel=rbf ...................................\n",
      "[CV] ....... C=1, gamma=0.0001, kernel=rbf, score=0.732, total=   0.4s\n",
      "[CV] C=10, gamma=1, kernel=rbf .......................................\n",
      "[CV] ........... C=10, gamma=1, kernel=rbf, score=0.757, total=   0.7s\n",
      "[CV] C=10, gamma=1, kernel=rbf .......................................\n",
      "[CV] ........... C=10, gamma=1, kernel=rbf, score=0.751, total=   0.7s\n",
      "[CV] C=10, gamma=1, kernel=rbf .......................................\n",
      "[CV] ........... C=10, gamma=1, kernel=rbf, score=0.773, total=   0.8s\n",
      "[CV] C=10, gamma=1, kernel=rbf .......................................\n",
      "[CV] ........... C=10, gamma=1, kernel=rbf, score=0.762, total=   0.9s\n",
      "[CV] C=10, gamma=1, kernel=rbf .......................................\n",
      "[CV] ........... C=10, gamma=1, kernel=rbf, score=0.772, total=   0.8s\n",
      "[CV] C=10, gamma=0.1, kernel=rbf .....................................\n",
      "[CV] ......... C=10, gamma=0.1, kernel=rbf, score=0.753, total=   0.6s\n",
      "[CV] C=10, gamma=0.1, kernel=rbf .....................................\n",
      "[CV] ......... C=10, gamma=0.1, kernel=rbf, score=0.753, total=   0.7s\n",
      "[CV] C=10, gamma=0.1, kernel=rbf .....................................\n",
      "[CV] ......... C=10, gamma=0.1, kernel=rbf, score=0.746, total=   0.6s\n",
      "[CV] C=10, gamma=0.1, kernel=rbf .....................................\n",
      "[CV] ......... C=10, gamma=0.1, kernel=rbf, score=0.756, total=   0.7s\n",
      "[CV] C=10, gamma=0.1, kernel=rbf .....................................\n",
      "[CV] ......... C=10, gamma=0.1, kernel=rbf, score=0.742, total=   0.5s\n",
      "[CV] C=10, gamma=0.01, kernel=rbf ....................................\n"
     ]
    },
    {
     "name": "stdout",
     "output_type": "stream",
     "text": [
      "[CV] ........ C=10, gamma=0.01, kernel=rbf, score=0.799, total=   0.4s\n",
      "[CV] C=10, gamma=0.01, kernel=rbf ....................................\n",
      "[CV] ........ C=10, gamma=0.01, kernel=rbf, score=0.792, total=   0.4s\n",
      "[CV] C=10, gamma=0.01, kernel=rbf ....................................\n",
      "[CV] ........ C=10, gamma=0.01, kernel=rbf, score=0.798, total=   0.4s\n",
      "[CV] C=10, gamma=0.01, kernel=rbf ....................................\n",
      "[CV] ........ C=10, gamma=0.01, kernel=rbf, score=0.809, total=   0.4s\n",
      "[CV] C=10, gamma=0.01, kernel=rbf ....................................\n",
      "[CV] ........ C=10, gamma=0.01, kernel=rbf, score=0.801, total=   0.4s\n",
      "[CV] C=10, gamma=0.001, kernel=rbf ...................................\n",
      "[CV] ....... C=10, gamma=0.001, kernel=rbf, score=0.801, total=   0.3s\n",
      "[CV] C=10, gamma=0.001, kernel=rbf ...................................\n",
      "[CV] ....... C=10, gamma=0.001, kernel=rbf, score=0.799, total=   0.4s\n",
      "[CV] C=10, gamma=0.001, kernel=rbf ...................................\n",
      "[CV] ....... C=10, gamma=0.001, kernel=rbf, score=0.795, total=   0.4s\n",
      "[CV] C=10, gamma=0.001, kernel=rbf ...................................\n",
      "[CV] ....... C=10, gamma=0.001, kernel=rbf, score=0.805, total=   0.4s\n",
      "[CV] C=10, gamma=0.001, kernel=rbf ...................................\n",
      "[CV] ....... C=10, gamma=0.001, kernel=rbf, score=0.794, total=   0.3s\n",
      "[CV] C=10, gamma=0.0001, kernel=rbf ..................................\n",
      "[CV] ...... C=10, gamma=0.0001, kernel=rbf, score=0.782, total=   0.4s\n",
      "[CV] C=10, gamma=0.0001, kernel=rbf ..................................\n",
      "[CV] ...... C=10, gamma=0.0001, kernel=rbf, score=0.770, total=   0.4s\n",
      "[CV] C=10, gamma=0.0001, kernel=rbf ..................................\n",
      "[CV] ...... C=10, gamma=0.0001, kernel=rbf, score=0.753, total=   0.4s\n",
      "[CV] C=10, gamma=0.0001, kernel=rbf ..................................\n",
      "[CV] ...... C=10, gamma=0.0001, kernel=rbf, score=0.769, total=   0.4s\n",
      "[CV] C=10, gamma=0.0001, kernel=rbf ..................................\n",
      "[CV] ...... C=10, gamma=0.0001, kernel=rbf, score=0.771, total=   0.4s\n",
      "[CV] C=100, gamma=1, kernel=rbf ......................................\n",
      "[CV] .......... C=100, gamma=1, kernel=rbf, score=0.754, total=   1.0s\n",
      "[CV] C=100, gamma=1, kernel=rbf ......................................\n",
      "[CV] .......... C=100, gamma=1, kernel=rbf, score=0.749, total=   0.9s\n",
      "[CV] C=100, gamma=1, kernel=rbf ......................................\n",
      "[CV] .......... C=100, gamma=1, kernel=rbf, score=0.765, total=   1.0s\n",
      "[CV] C=100, gamma=1, kernel=rbf ......................................\n",
      "[CV] .......... C=100, gamma=1, kernel=rbf, score=0.757, total=   0.8s\n",
      "[CV] C=100, gamma=1, kernel=rbf ......................................\n",
      "[CV] .......... C=100, gamma=1, kernel=rbf, score=0.770, total=   0.9s\n",
      "[CV] C=100, gamma=0.1, kernel=rbf ....................................\n",
      "[CV] ........ C=100, gamma=0.1, kernel=rbf, score=0.732, total=   0.7s\n",
      "[CV] C=100, gamma=0.1, kernel=rbf ....................................\n",
      "[CV] ........ C=100, gamma=0.1, kernel=rbf, score=0.741, total=   0.7s\n",
      "[CV] C=100, gamma=0.1, kernel=rbf ....................................\n",
      "[CV] ........ C=100, gamma=0.1, kernel=rbf, score=0.748, total=   0.7s\n",
      "[CV] C=100, gamma=0.1, kernel=rbf ....................................\n",
      "[CV] ........ C=100, gamma=0.1, kernel=rbf, score=0.734, total=   0.7s\n",
      "[CV] C=100, gamma=0.1, kernel=rbf ....................................\n",
      "[CV] ........ C=100, gamma=0.1, kernel=rbf, score=0.729, total=   0.8s\n",
      "[CV] C=100, gamma=0.01, kernel=rbf ...................................\n",
      "[CV] ....... C=100, gamma=0.01, kernel=rbf, score=0.791, total=   0.8s\n",
      "[CV] C=100, gamma=0.01, kernel=rbf ...................................\n",
      "[CV] ....... C=100, gamma=0.01, kernel=rbf, score=0.794, total=   0.7s\n",
      "[CV] C=100, gamma=0.01, kernel=rbf ...................................\n",
      "[CV] ....... C=100, gamma=0.01, kernel=rbf, score=0.792, total=   0.8s\n",
      "[CV] C=100, gamma=0.01, kernel=rbf ...................................\n",
      "[CV] ....... C=100, gamma=0.01, kernel=rbf, score=0.805, total=   0.8s\n",
      "[CV] C=100, gamma=0.01, kernel=rbf ...................................\n",
      "[CV] ....... C=100, gamma=0.01, kernel=rbf, score=0.790, total=   0.8s\n",
      "[CV] C=100, gamma=0.001, kernel=rbf ..................................\n",
      "[CV] ...... C=100, gamma=0.001, kernel=rbf, score=0.798, total=   0.4s\n",
      "[CV] C=100, gamma=0.001, kernel=rbf ..................................\n",
      "[CV] ...... C=100, gamma=0.001, kernel=rbf, score=0.801, total=   0.4s\n",
      "[CV] C=100, gamma=0.001, kernel=rbf ..................................\n",
      "[CV] ...... C=100, gamma=0.001, kernel=rbf, score=0.795, total=   0.4s\n",
      "[CV] C=100, gamma=0.001, kernel=rbf ..................................\n",
      "[CV] ...... C=100, gamma=0.001, kernel=rbf, score=0.807, total=   0.4s\n",
      "[CV] C=100, gamma=0.001, kernel=rbf ..................................\n",
      "[CV] ...... C=100, gamma=0.001, kernel=rbf, score=0.800, total=   0.4s\n",
      "[CV] C=100, gamma=0.0001, kernel=rbf .................................\n",
      "[CV] ..... C=100, gamma=0.0001, kernel=rbf, score=0.797, total=   0.4s\n",
      "[CV] C=100, gamma=0.0001, kernel=rbf .................................\n",
      "[CV] ..... C=100, gamma=0.0001, kernel=rbf, score=0.800, total=   0.3s\n",
      "[CV] C=100, gamma=0.0001, kernel=rbf .................................\n",
      "[CV] ..... C=100, gamma=0.0001, kernel=rbf, score=0.797, total=   0.4s\n",
      "[CV] C=100, gamma=0.0001, kernel=rbf .................................\n",
      "[CV] ..... C=100, gamma=0.0001, kernel=rbf, score=0.803, total=   0.3s\n",
      "[CV] C=100, gamma=0.0001, kernel=rbf .................................\n",
      "[CV] ..... C=100, gamma=0.0001, kernel=rbf, score=0.791, total=   0.4s\n",
      "[CV] C=1000, gamma=1, kernel=rbf .....................................\n",
      "[CV] ......... C=1000, gamma=1, kernel=rbf, score=0.750, total=   1.5s\n",
      "[CV] C=1000, gamma=1, kernel=rbf .....................................\n",
      "[CV] ......... C=1000, gamma=1, kernel=rbf, score=0.751, total=   1.1s\n",
      "[CV] C=1000, gamma=1, kernel=rbf .....................................\n",
      "[CV] ......... C=1000, gamma=1, kernel=rbf, score=0.758, total=   1.0s\n",
      "[CV] C=1000, gamma=1, kernel=rbf .....................................\n",
      "[CV] ......... C=1000, gamma=1, kernel=rbf, score=0.753, total=   1.6s\n",
      "[CV] C=1000, gamma=1, kernel=rbf .....................................\n",
      "[CV] ......... C=1000, gamma=1, kernel=rbf, score=0.764, total=   1.6s\n",
      "[CV] C=1000, gamma=0.1, kernel=rbf ...................................\n",
      "[CV] ....... C=1000, gamma=0.1, kernel=rbf, score=0.740, total=   0.9s\n",
      "[CV] C=1000, gamma=0.1, kernel=rbf ...................................\n",
      "[CV] ....... C=1000, gamma=0.1, kernel=rbf, score=0.744, total=   0.9s\n",
      "[CV] C=1000, gamma=0.1, kernel=rbf ...................................\n",
      "[CV] ....... C=1000, gamma=0.1, kernel=rbf, score=0.730, total=   1.0s\n",
      "[CV] C=1000, gamma=0.1, kernel=rbf ...................................\n",
      "[CV] ....... C=1000, gamma=0.1, kernel=rbf, score=0.714, total=   1.0s\n",
      "[CV] C=1000, gamma=0.1, kernel=rbf ...................................\n",
      "[CV] ....... C=1000, gamma=0.1, kernel=rbf, score=0.723, total=   1.2s\n",
      "[CV] C=1000, gamma=0.01, kernel=rbf ..................................\n",
      "[CV] ...... C=1000, gamma=0.01, kernel=rbf, score=0.769, total=   3.6s\n",
      "[CV] C=1000, gamma=0.01, kernel=rbf ..................................\n",
      "[CV] ...... C=1000, gamma=0.01, kernel=rbf, score=0.766, total=   3.4s\n",
      "[CV] C=1000, gamma=0.01, kernel=rbf ..................................\n",
      "[CV] ...... C=1000, gamma=0.01, kernel=rbf, score=0.764, total=   3.5s\n",
      "[CV] C=1000, gamma=0.01, kernel=rbf ..................................\n",
      "[CV] ...... C=1000, gamma=0.01, kernel=rbf, score=0.790, total=   3.5s\n",
      "[CV] C=1000, gamma=0.01, kernel=rbf ..................................\n",
      "[CV] ...... C=1000, gamma=0.01, kernel=rbf, score=0.751, total=   3.3s\n",
      "[CV] C=1000, gamma=0.001, kernel=rbf .................................\n",
      "[CV] ..... C=1000, gamma=0.001, kernel=rbf, score=0.795, total=   0.8s\n",
      "[CV] C=1000, gamma=0.001, kernel=rbf .................................\n",
      "[CV] ..... C=1000, gamma=0.001, kernel=rbf, score=0.795, total=   0.8s\n",
      "[CV] C=1000, gamma=0.001, kernel=rbf .................................\n",
      "[CV] ..... C=1000, gamma=0.001, kernel=rbf, score=0.796, total=   0.8s\n",
      "[CV] C=1000, gamma=0.001, kernel=rbf .................................\n"
     ]
    },
    {
     "name": "stdout",
     "output_type": "stream",
     "text": [
      "[CV] ..... C=1000, gamma=0.001, kernel=rbf, score=0.809, total=   0.8s\n",
      "[CV] C=1000, gamma=0.001, kernel=rbf .................................\n",
      "[CV] ..... C=1000, gamma=0.001, kernel=rbf, score=0.800, total=   0.8s\n",
      "[CV] C=1000, gamma=0.0001, kernel=rbf ................................\n",
      "[CV] .... C=1000, gamma=0.0001, kernel=rbf, score=0.794, total=   0.4s\n",
      "[CV] C=1000, gamma=0.0001, kernel=rbf ................................\n",
      "[CV] .... C=1000, gamma=0.0001, kernel=rbf, score=0.799, total=   0.4s\n",
      "[CV] C=1000, gamma=0.0001, kernel=rbf ................................\n",
      "[CV] .... C=1000, gamma=0.0001, kernel=rbf, score=0.795, total=   0.4s\n",
      "[CV] C=1000, gamma=0.0001, kernel=rbf ................................\n",
      "[CV] .... C=1000, gamma=0.0001, kernel=rbf, score=0.799, total=   0.4s\n",
      "[CV] C=1000, gamma=0.0001, kernel=rbf ................................\n",
      "[CV] .... C=1000, gamma=0.0001, kernel=rbf, score=0.789, total=   0.4s\n"
     ]
    },
    {
     "name": "stderr",
     "output_type": "stream",
     "text": [
      "[Parallel(n_jobs=1)]: Done 125 out of 125 | elapsed:  1.4min finished\n"
     ]
    },
    {
     "name": "stdout",
     "output_type": "stream",
     "text": [
      "Best: 0.800152 using {'C': 100, 'gamma': 0.001, 'kernel': 'rbf'}\n",
      "0.732082 (0.000410) with: {'C': 0.1, 'gamma': 1, 'kernel': 'rbf'}\n",
      "0.784982 (0.005975) with: {'C': 0.1, 'gamma': 0.1, 'kernel': 'rbf'}\n",
      "0.764695 (0.008695) with: {'C': 0.1, 'gamma': 0.01, 'kernel': 'rbf'}\n",
      "0.732082 (0.000410) with: {'C': 0.1, 'gamma': 0.001, 'kernel': 'rbf'}\n",
      "0.732082 (0.000410) with: {'C': 0.1, 'gamma': 0.0001, 'kernel': 'rbf'}\n",
      "0.763179 (0.009499) with: {'C': 1, 'gamma': 1, 'kernel': 'rbf'}\n",
      "0.792188 (0.005995) with: {'C': 1, 'gamma': 0.1, 'kernel': 'rbf'}\n",
      "0.798634 (0.002512) with: {'C': 1, 'gamma': 0.01, 'kernel': 'rbf'}\n",
      "0.769246 (0.008771) with: {'C': 1, 'gamma': 0.001, 'kernel': 'rbf'}\n",
      "0.732082 (0.000410) with: {'C': 1, 'gamma': 0.0001, 'kernel': 'rbf'}\n",
      "0.762990 (0.008494) with: {'C': 10, 'gamma': 1, 'kernel': 'rbf'}\n",
      "0.749904 (0.005210) with: {'C': 10, 'gamma': 0.1, 'kernel': 'rbf'}\n",
      "0.799773 (0.005198) with: {'C': 10, 'gamma': 0.01, 'kernel': 'rbf'}\n",
      "0.798824 (0.003857) with: {'C': 10, 'gamma': 0.001, 'kernel': 'rbf'}\n",
      "0.768867 (0.009417) with: {'C': 10, 'gamma': 0.0001, 'kernel': 'rbf'}\n",
      "0.759009 (0.007761) with: {'C': 100, 'gamma': 1, 'kernel': 'rbf'}\n",
      "0.736631 (0.006982) with: {'C': 100, 'gamma': 0.1, 'kernel': 'rbf'}\n",
      "0.794463 (0.005338) with: {'C': 100, 'gamma': 0.01, 'kernel': 'rbf'}\n",
      "0.800152 (0.003766) with: {'C': 100, 'gamma': 0.001, 'kernel': 'rbf'}\n",
      "0.797686 (0.003838) with: {'C': 100, 'gamma': 0.0001, 'kernel': 'rbf'}\n",
      "0.755026 (0.005274) with: {'C': 1000, 'gamma': 1, 'kernel': 'rbf'}\n",
      "0.730184 (0.011114) with: {'C': 1000, 'gamma': 0.1, 'kernel': 'rbf'}\n",
      "0.767915 (0.012340) with: {'C': 1000, 'gamma': 0.01, 'kernel': 'rbf'}\n",
      "0.799204 (0.005404) with: {'C': 1000, 'gamma': 0.001, 'kernel': 'rbf'}\n",
      "0.795410 (0.003583) with: {'C': 1000, 'gamma': 0.0001, 'kernel': 'rbf'}\n"
     ]
    }
   ],
   "source": [
    "#Hyperparameter Tuning for Support Vector Classifier using GridSearchCV\n",
    "\n",
    "# defining parameter range\n",
    "param_grid = {'C': [0.1, 1, 10, 100, 1000],\n",
    "              'gamma': [1, 0.1, 0.01, 0.001, 0.0001],\n",
    "              'kernel': ['rbf']}\n",
    " \n",
    "grid_search = GridSearchCV(SVC(), param_grid, refit = True, verbose = 3)\n",
    " \n",
    "# fitting the model for grid search\n",
    "grid_result = grid_search.fit(X_train, y_train)\n",
    "\n",
    "# summarize results\n",
    "print(\"Best: %f using %s\" % (grid_result.best_score_, grid_result.best_params_))\n",
    "means = grid_result.cv_results_['mean_test_score']\n",
    "stds = grid_result.cv_results_['std_test_score']\n",
    "params = grid_result.cv_results_['params']\n",
    "for mean, stdev, param in zip(means, stds, params):\n",
    "    print(\"%f (%f) with: %r\" % (mean, stdev, param))"
   ]
  },
  {
   "cell_type": "code",
   "execution_count": 45,
   "metadata": {},
   "outputs": [
    {
     "data": {
      "image/png": "[encoded data removed]",
      "text/plain": [
       "<Figure size 1080x504 with 1 Axes>"
      ]
     },
     "metadata": {},
     "output_type": "display_data"
    },
    {
     "data": {
      "text/plain": [
       "<AxesSubplot:title={'center':'SVC Confusion Matrix'}, xlabel='Predicted Class', ylabel='True Class'>"
      ]
     },
     "execution_count": 45,
     "metadata": {},
     "output_type": "execute_result"
    }
   ],
   "source": [
    "#Create a model instance using Support Vector Classifier\n",
    "model = SVC(C=100, gamma=0.001, kernel='rbf')\n",
    "\n",
    "# Create Confusion Matrix\n",
    "classes = ['No_Churn','Churn']\n",
    "cm = ConfusionMatrix(model, classes=classes, percent=False)\n",
    "\n",
    "# Fit the model\n",
    "cm.fit(X_train, y_train)\n",
    "\n",
    "# Create confusion matric scores\n",
    "cm.score(X_val, y_val)\n",
    "\n",
    "# change fontsize of the labels in the figure\n",
    "for label in cm.ax.texts:\n",
    "    label.set_size(20)\n",
    "\n",
    "# Display\n",
    "cm.poof()"
   ]
  },
  {
   "cell_type": "code",
   "execution_count": 46,
   "metadata": {},
   "outputs": [
    {
     "data": {
      "image/png": "[encoded data removed]",
      "text/plain": [
       "<Figure size 1080x504 with 2 Axes>"
      ]
     },
     "metadata": {},
     "output_type": "display_data"
    }
   ],
   "source": [
    "# Precision, Recall, and F1 Score\n",
    "# Set the size of the figure and the font size \n",
    "plt.rcParams['figure.figsize'] = (15, 7)\n",
    "plt.rcParams['font.size'] = 20\n",
    "\n",
    "# Instantiate the visualizer\n",
    "visualizer = ClassificationReport(model, classes=classes)\n",
    "\n",
    "# Fit the training data and evaluate using test data\n",
    "visualizer.fit(X_train, y_train)\n",
    "visualizer.score(X_val, y_val)\n",
    "\n",
    "# Display\n",
    "g = visualizer.poof()"
   ]
  },
  {
   "cell_type": "code",
   "execution_count": 47,
   "metadata": {},
   "outputs": [
    {
     "name": "stdout",
     "output_type": "stream",
     "text": [
      "Accuracy = 0.7957906712172924\n"
     ]
    }
   ],
   "source": [
    "# Use score method to get accuracy of model\n",
    "score = model.score(X_val, y_val)\n",
    "print(\"Accuracy =\", score)"
   ]
  },
  {
   "cell_type": "markdown",
   "metadata": {},
   "source": [
    "### Gradient Boosting Classifier"
   ]
  },
  {
   "cell_type": "code",
   "execution_count": 48,
   "metadata": {},
   "outputs": [
    {
     "data": {
      "image/png": "[encoded data removed]",
      "text/plain": [
       "<Figure size 1080x504 with 1 Axes>"
      ]
     },
     "metadata": {},
     "output_type": "display_data"
    },
    {
     "data": {
      "text/plain": [
       "<AxesSubplot:title={'center':'GradientBoostingClassifier Confusion Matrix'}, xlabel='Predicted Class', ylabel='True Class'>"
      ]
     },
     "execution_count": 48,
     "metadata": {},
     "output_type": "execute_result"
    }
   ],
   "source": [
    "# Import Gradient Boosting Classifier \n",
    "from sklearn.ensemble import GradientBoostingClassifier\n",
    "\n",
    "#Create a model instance using Gradient Boosting Classifier\n",
    "model = GradientBoostingClassifier()\n",
    "\n",
    "# Create Confusion Matrix\n",
    "classes = ['No_Churn','Churn']\n",
    "cm = ConfusionMatrix(model, classes=classes, percent=False)\n",
    "\n",
    "# Fit the model\n",
    "cm.fit(X_train, y_train)\n",
    "\n",
    "# Create confusion matric scores\n",
    "cm.score(X_val, y_val)\n",
    "\n",
    "# change fontsize of the labels in the figure\n",
    "for label in cm.ax.texts:\n",
    "    label.set_size(20)\n",
    "\n",
    "# Display\n",
    "cm.poof()"
   ]
  },
  {
   "cell_type": "code",
   "execution_count": 49,
   "metadata": {},
   "outputs": [
    {
     "data": {
      "image/png": "[encoded data removed]",
      "text/plain": [
       "<Figure size 1080x504 with 2 Axes>"
      ]
     },
     "metadata": {},
     "output_type": "display_data"
    }
   ],
   "source": [
    "# Precision, Recall, and F1 Score\n",
    "# Set the size of the figure and the font size \n",
    "plt.rcParams['figure.figsize'] = (15, 7)\n",
    "plt.rcParams['font.size'] = 20\n",
    "\n",
    "# Instantiate the visualizer\n",
    "visualizer = ClassificationReport(model, classes=classes)\n",
    "\n",
    "# Fit the training data and evaluate using test data\n",
    "visualizer.fit(X_train, y_train)\n",
    "visualizer.score(X_val, y_val)\n",
    "\n",
    "# Display\n",
    "g = visualizer.poof()"
   ]
  },
  {
   "cell_type": "code",
   "execution_count": 50,
   "metadata": {},
   "outputs": [
    {
     "name": "stdout",
     "output_type": "stream",
     "text": [
      "Accuracy = 0.7992036405005688\n"
     ]
    }
   ],
   "source": [
    "# Use score method to get accuracy of model\n",
    "score = model.score(X_val, y_val)\n",
    "print(\"Accuracy =\", score)"
   ]
  },
  {
   "cell_type": "code",
   "execution_count": 51,
   "metadata": {},
   "outputs": [
    {
     "name": "stdout",
     "output_type": "stream",
     "text": [
      "Best: 0.844712 using {'n_estimators': 60}\n",
      "0.842757 (0.004319) with: {'n_estimators': 20}\n",
      "0.844370 (0.003840) with: {'n_estimators': 30}\n",
      "0.844559 (0.004342) with: {'n_estimators': 40}\n",
      "0.844703 (0.004553) with: {'n_estimators': 50}\n",
      "0.844712 (0.004553) with: {'n_estimators': 60}\n",
      "0.844667 (0.005442) with: {'n_estimators': 70}\n",
      "0.843567 (0.005439) with: {'n_estimators': 80}\n"
     ]
    },
    {
     "name": "stderr",
     "output_type": "stream",
     "text": [
      "C:\\Users\\shilp\\anaconda3\\lib\\site-packages\\sklearn\\model_selection\\_search.py:847: FutureWarning: The parameter 'iid' is deprecated in 0.22 and will be removed in 0.24.\n",
      "  warnings.warn(\n"
     ]
    }
   ],
   "source": [
    "# Hyperparameter Tuning for Gradient Boosting Classifier using GridSearchCV\n",
    "model = GradientBoostingClassifier()\n",
    "estimators = {'n_estimators':range(20,81,10)}\n",
    "grid_search = GridSearchCV(estimator = GradientBoostingClassifier(learning_rate=0.1, \n",
    "                                                               min_samples_split=500,\n",
    "                                                               min_samples_leaf=50,\n",
    "                                                               max_depth=8,\n",
    "                                                               max_features='sqrt',\n",
    "                                                               subsample=0.8,\n",
    "                                                               random_state=10), \n",
    "param_grid = estimators, scoring='roc_auc',n_jobs=4,iid=False, cv=5)\n",
    "grid_result = grid_search.fit(X_train, y_train)\n",
    "\n",
    "# summarize results\n",
    "print(\"Best: %f using %s\" % (grid_result.best_score_, grid_result.best_params_))\n",
    "means = grid_result.cv_results_['mean_test_score']\n",
    "stds = grid_result.cv_results_['std_test_score']\n",
    "params = grid_result.cv_results_['params']\n",
    "for mean, stdev, param in zip(means, stds, params):\n",
    "    print(\"%f (%f) with: %r\" % (mean, stdev, param))"
   ]
  },
  {
   "cell_type": "code",
   "execution_count": 52,
   "metadata": {},
   "outputs": [
    {
     "data": {
      "image/png": "[encoded data removed]",
      "text/plain": [
       "<Figure size 1080x504 with 1 Axes>"
      ]
     },
     "metadata": {},
     "output_type": "display_data"
    },
    {
     "data": {
      "text/plain": [
       "<AxesSubplot:title={'center':'GradientBoostingClassifier Confusion Matrix'}, xlabel='Predicted Class', ylabel='True Class'>"
      ]
     },
     "execution_count": 52,
     "metadata": {},
     "output_type": "execute_result"
    }
   ],
   "source": [
    "#Create a model instance using Gradient Boosting Classifier\n",
    "model = GradientBoostingClassifier(n_estimators=60)\n",
    "\n",
    "# Create Confusion Matrix\n",
    "classes = ['No_Churn','Churn']\n",
    "cm = ConfusionMatrix(model, classes=classes, percent=False)\n",
    "\n",
    "# Fit the model\n",
    "cm.fit(X_train, y_train)\n",
    "\n",
    "# Create confusion matric scores\n",
    "cm.score(X_val, y_val)\n",
    "\n",
    "# change fontsize of the labels in the figure\n",
    "for label in cm.ax.texts:\n",
    "    label.set_size(20)\n",
    "\n",
    "# Display\n",
    "cm.poof()"
   ]
  },
  {
   "cell_type": "code",
   "execution_count": 53,
   "metadata": {},
   "outputs": [
    {
     "data": {
      "image/png": "[encoded data removed]",
      "text/plain": [
       "<Figure size 1080x504 with 2 Axes>"
      ]
     },
     "metadata": {},
     "output_type": "display_data"
    }
   ],
   "source": [
    "# Precision, Recall, and F1 Score\n",
    "# Set the size of the figure and the font size \n",
    "plt.rcParams['figure.figsize'] = (15, 7)\n",
    "plt.rcParams['font.size'] = 20\n",
    "\n",
    "# Instantiate the visualizer\n",
    "visualizer = ClassificationReport(model, classes=classes)\n",
    "\n",
    "# Fit the training data and evaluate using test data\n",
    "visualizer.fit(X_train, y_train)\n",
    "visualizer.score(X_val, y_val)\n",
    "\n",
    "# Display\n",
    "g = visualizer.poof()"
   ]
  },
  {
   "cell_type": "code",
   "execution_count": 54,
   "metadata": {},
   "outputs": [
    {
     "name": "stdout",
     "output_type": "stream",
     "text": [
      "Accuracy = 0.8037542662116041\n"
     ]
    }
   ],
   "source": [
    "# Use score method to get accuracy of model\n",
    "score = model.score(X_val, y_val)\n",
    "print(\"Accuracy =\", score)"
   ]
  },
  {
   "cell_type": "code",
   "execution_count": null,
   "metadata": {},
   "outputs": [],
   "source": []
  }
 ],
 "metadata": {
  "kernelspec": {
   "display_name": "Python 3",
   "language": "python",
   "name": "python3"
  },
  "language_info": {
   "codemirror_mode": {
    "name": "ipython",
    "version": 3
   },
   "file_extension": ".py",
   "mimetype": "text/x-python",
   "name": "python",
   "nbconvert_exporter": "python",
   "pygments_lexer": "ipython3",
   "version": "3.8.5"
  }
 },
 "nbformat": 4,
 "nbformat_minor": 4
}
