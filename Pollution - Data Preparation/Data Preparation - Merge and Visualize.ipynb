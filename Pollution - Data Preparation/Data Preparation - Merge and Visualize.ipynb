{
 "cells": [
  {
   "cell_type": "raw",
   "metadata": {},
   "source": [
    "Ajit Kolekar\n",
    "Data Preparation - Merging the Data and Storing in a Database/Visualizing Data\n",
    "Note: Executing code in this notebook should be done after three data preparation activities are completed"
   ]
  },
  {
   "cell_type": "code",
   "execution_count": 1,
   "metadata": {},
   "outputs": [],
   "source": [
    "# Import necessary libraries \n",
    "import sqlite3\n",
    "import pandas as pd\n",
    "import matplotlib.pyplot as plt"
   ]
  },
  {
   "cell_type": "code",
   "execution_count": 2,
   "metadata": {},
   "outputs": [
    {
     "data": {
      "text/plain": [
       "(436876, 22)"
      ]
     },
     "execution_count": 2,
     "metadata": {},
     "output_type": "execute_result"
    }
   ],
   "source": [
    "# Read pollution.csv file stored as an output from milestone 2, store data in data frame\n",
    "pollution_df = pd.read_csv(\"pollution.csv\")\n",
    "\n",
    "# check size of the data frame using shape function for verification\n",
    "pollution_df.shape"
   ]
  },
  {
   "cell_type": "code",
   "execution_count": 3,
   "metadata": {},
   "outputs": [
    {
     "data": {
      "text/plain": [
       "(3245, 3)"
      ]
     },
     "execution_count": 3,
     "metadata": {},
     "output_type": "execute_result"
    }
   ],
   "source": [
    "# Read population.csv file stored as an output from milestone 3, store data in data frame\n",
    "population_df = pd.read_csv(\"population.csv\")\n",
    "\n",
    "# check size of the data frame using shape function for verification\n",
    "population_df.shape"
   ]
  },
  {
   "cell_type": "code",
   "execution_count": 4,
   "metadata": {},
   "outputs": [
    {
     "data": {
      "text/plain": [
       "(100176, 33)"
      ]
     },
     "execution_count": 4,
     "metadata": {},
     "output_type": "execute_result"
    }
   ],
   "source": [
    "# Read aqs.csv file stored as an output from milestone 4, store data in data frame\n",
    "aqs_df = pd.read_csv(\"aqs.csv\")\n",
    "\n",
    "# check size of the data frame using shape function for verification\n",
    "aqs_df.shape"
   ]
  },
  {
   "cell_type": "code",
   "execution_count": 5,
   "metadata": {},
   "outputs": [
    {
     "data": {
      "text/plain": [
       "Index(['Site Num', 'Address', 'State', 'County', 'City', 'Date Local',\n",
       "       'NO2 Mean', 'NO2 Max Value', 'NO2 Max Hour', 'NO2 AQI', 'O3 Mean',\n",
       "       'O3 Max Value', 'O3 Max Hour', 'O3 AQI', 'SO2 Mean', 'SO2 Max Value',\n",
       "       'SO2 Max Hour', 'SO2 AQI', 'CO Mean', 'CO Max Value', 'CO Max Hour',\n",
       "       'CO AQI'],\n",
       "      dtype='object')"
      ]
     },
     "execution_count": 5,
     "metadata": {},
     "output_type": "execute_result"
    }
   ],
   "source": [
    "# Check the columns of pollution data frame to see if any column names need to be updated\n",
    "pollution_df.columns"
   ]
  },
  {
   "cell_type": "code",
   "execution_count": 6,
   "metadata": {},
   "outputs": [
    {
     "data": {
      "text/plain": [
       "Index(['County', 'State', 'Population'], dtype='object')"
      ]
     },
     "execution_count": 6,
     "metadata": {},
     "output_type": "execute_result"
    }
   ],
   "source": [
    "# Check the columns of population data frame to see if any column names need to be updated\n",
    "population_df.columns"
   ]
  },
  {
   "cell_type": "code",
   "execution_count": 7,
   "metadata": {},
   "outputs": [
    {
     "data": {
      "text/plain": [
       "Index(['address', 'cbsa_code', 'cbsa_name', 'City', 'close_date',\n",
       "       'county_code', 'County', 'csa_code', 'csa_name', 'datum', 'elevation',\n",
       "       'last_method_begin_date', 'last_method_code', 'last_method_description',\n",
       "       'lat_lon_accuracy', 'latitude', 'local_site_name', 'longitude',\n",
       "       'measurement_scale', 'measurement_scale_def', 'monitor_type',\n",
       "       'monitoring_agency', 'monitoring_agency_code', 'monitoring_objective',\n",
       "       'open_date', 'parameter_code', 'parameter_name', 'pl_probe_location',\n",
       "       'poc', 'si_id', 'site_number', 'state_code', 'State'],\n",
       "      dtype='object')"
      ]
     },
     "execution_count": 7,
     "metadata": {},
     "output_type": "execute_result"
    }
   ],
   "source": [
    "# Check the columns of aqs data frame to see if any column names need to be updated\n",
    "aqs_df.columns"
   ]
  },
  {
   "cell_type": "code",
   "execution_count": 8,
   "metadata": {},
   "outputs": [],
   "source": [
    "# Change Date Local column name in pollution data frame\n",
    "pollution_df.rename(columns={'Date Local': 'Date'}, inplace=True)"
   ]
  },
  {
   "cell_type": "code",
   "execution_count": 9,
   "metadata": {},
   "outputs": [],
   "source": [
    "# Change open_date and address column names to Date in aqs data frame\n",
    "aqs_df.rename(columns={'open_date': 'Date', 'address': 'cbsa_address'}, inplace=True)"
   ]
  },
  {
   "cell_type": "code",
   "execution_count": 10,
   "metadata": {},
   "outputs": [],
   "source": [
    "# Create a connection to a new database project.db using sqlite3\n",
    "conn = sqlite3.connect('project.db')"
   ]
  },
  {
   "cell_type": "code",
   "execution_count": 11,
   "metadata": {},
   "outputs": [
    {
     "name": "stderr",
     "output_type": "stream",
     "text": [
      "C:\\Users\\shilp\\anaconda3\\lib\\site-packages\\pandas\\core\\generic.py:2605: UserWarning: The spaces in these column names will not be changed. In pandas versions < 0.14, spaces were converted to underscores.\n",
      "  sql.to_sql(\n"
     ]
    }
   ],
   "source": [
    "# Load pollution_df data in pollution table\n",
    "pollution_df.to_sql('pollution', conn)"
   ]
  },
  {
   "cell_type": "code",
   "execution_count": 12,
   "metadata": {},
   "outputs": [],
   "source": [
    "# Load population_df data in population table\n",
    "population_df.to_sql('population', conn)"
   ]
  },
  {
   "cell_type": "code",
   "execution_count": 13,
   "metadata": {},
   "outputs": [],
   "source": [
    "# Load aqs_df data in aqs table\n",
    "aqs_df.to_sql('aqs', conn)"
   ]
  },
  {
   "cell_type": "code",
   "execution_count": 14,
   "metadata": {},
   "outputs": [],
   "source": [
    "# Confirm the creation of aqs table by executing select statement\n",
    "rows = conn.execute('SELECT * FROM pollution')"
   ]
  },
  {
   "cell_type": "code",
   "execution_count": 15,
   "metadata": {},
   "outputs": [
    {
     "name": "stdout",
     "output_type": "stream",
     "text": [
      "(0, 3002, '1645 E Roosevelt St-Central Phoenix Stn', 'Arizona', 'Maricopa', 'Phoenix', '2000-01-01', 19.041667, 49.0, 19, 46, 22.5, 40.0, 10, 34, 3.0, 9.0, 21, 13.0, 878.9469999999999, 2200.0, 23, 25.0)\n"
     ]
    }
   ],
   "source": [
    "# Print first row from the table\n",
    "for row in rows:\n",
    "    print(row)\n",
    "    break"
   ]
  },
  {
   "cell_type": "code",
   "execution_count": 16,
   "metadata": {},
   "outputs": [],
   "source": [
    "# Confirm the creation of population table by executing select statement\n",
    "rows = conn.execute('SELECT * FROM population')"
   ]
  },
  {
   "cell_type": "code",
   "execution_count": 17,
   "metadata": {},
   "outputs": [
    {
     "name": "stdout",
     "output_type": "stream",
     "text": [
      "(0, 'Autauga', 'Alabama', 55869)\n"
     ]
    }
   ],
   "source": [
    "# Print first row from the table\n",
    "for row in rows:\n",
    "    print(row)\n",
    "    break"
   ]
  },
  {
   "cell_type": "code",
   "execution_count": 18,
   "metadata": {},
   "outputs": [],
   "source": [
    "# Confirm the creation of aqs table by executing select statement\n",
    "rows = conn.execute('SELECT * FROM aqs')"
   ]
  },
  {
   "cell_type": "code",
   "execution_count": 19,
   "metadata": {},
   "outputs": [
    {
     "name": "stdout",
     "output_type": "stream",
     "text": [
      "(0, 'Fairhope High School, 1 Pirate Drive, Fairhope,  Alabama', 19300.0, 'Daphne-Fairhope-Foley, AL', 'Fairhope', '2010-09-17', 3, 'Baldwin', 380.0, 'Mobile-Daphne-Fairhope, AL', 'NAD83', 37.19, '2010-05-17', 126, 'SS CANISTER PRESSURIZED - CRYOGENIC PRECONCENTRATION GC/FID', 4.0, 30.497478000000005, 'FAIRHOPE, Alabama', -87.880258, None, None, 'SPM', 'US EPA/OAQPS', 1108, 'POPULATION EXPOSURE', '2010-05-17', 43236, '2-Ethyl-1-butene', None, 10, 7, 10, 1, 'Alabama')\n"
     ]
    }
   ],
   "source": [
    "# Print first row from the table\n",
    "for row in rows:\n",
    "    print(row)\n",
    "    break"
   ]
  },
  {
   "cell_type": "code",
   "execution_count": 20,
   "metadata": {},
   "outputs": [],
   "source": [
    "#Create an sql statement to join three tables: pollution, population, and aqs to create a combined table \n",
    "sql = '''\n",
    "      CREATE TABLE combined AS \n",
    "      SELECT * FROM pollution\n",
    "      INNER JOIN population ON population.State = pollution.State\n",
    "                            AND population.County = pollution.County\n",
    "      INNER JOIN aqs        ON aqs.State = pollution.State \n",
    "                            AND aqs.County = pollution.County\n",
    "                            AND aqs.Date = pollution.Date\n",
    "      '''\n"
   ]
  },
  {
   "cell_type": "code",
   "execution_count": 21,
   "metadata": {},
   "outputs": [
    {
     "data": {
      "text/plain": [
       "<sqlite3.Cursor at 0x13a259faf10>"
      ]
     },
     "execution_count": 21,
     "metadata": {},
     "output_type": "execute_result"
    }
   ],
   "source": [
    "# Execute sql statement to create combined table \n",
    "conn.execute(sql)"
   ]
  },
  {
   "cell_type": "code",
   "execution_count": 22,
   "metadata": {},
   "outputs": [],
   "source": [
    "# Commit the changes to the database\n",
    "conn.commit()"
   ]
  },
  {
   "cell_type": "code",
   "execution_count": 23,
   "metadata": {},
   "outputs": [],
   "source": [
    "# Confirm the creation of combined table by executing select statement\n",
    "rows = conn.execute('SELECT * FROM combined')"
   ]
  },
  {
   "cell_type": "code",
   "execution_count": 24,
   "metadata": {},
   "outputs": [
    {
     "name": "stdout",
     "output_type": "stream",
     "text": [
      "(100755, 4002, '1820 S. 51St Ave.', 'Illinois', 'Cook', 'Cicero', '2004-04-21', 14.75, 29.0, 6, 27, 25.583, 29.0, 4, 25, 3.375, 15.0, 6, 21.0, 683.3330000000001, 800.0, 18, 9.0, 617, 'Cook', 'Illinois', 5150233, 29056, '750 Dundee Road', 16980.0, 'Chicago-Naperville-Elgin, IL-IN-WI', 'Northbrook', None, 31, 'Cook', 176.0, 'Chicago-Naperville, IL-IN-WI', 'WGS84', 198.0, '2004-04-21', 126, 'SS CANISTER PRESSURIZED - CRYOGENIC PRECONCENTRATION GC/FID', 10.0, 42.139996000000004, 'NORTHBROOK WATER PLANT', -87.799227, None, None, 'SLAMS', 'Illinois Environmental Protection Agency', 513, 'POPULATION EXPOSURE', '2004-04-21', 43236, '2-Ethyl-1-butene', None, 8, 3783, 4201, 17, 'Illinois')\n"
     ]
    }
   ],
   "source": [
    "# Print first row from the table\n",
    "for row in rows:\n",
    "    print(row)\n",
    "    break"
   ]
  },
  {
   "cell_type": "code",
   "execution_count": 25,
   "metadata": {},
   "outputs": [],
   "source": [
    "# Extract data from combined table to a data frame using pandas read_sql_query function \n",
    "combined_df = pd.read_sql_query('SELECT * FROM combined', conn)"
   ]
  },
  {
   "cell_type": "code",
   "execution_count": 26,
   "metadata": {},
   "outputs": [
    {
     "data": {
      "text/html": [
       "<div>\n",
       "<style scoped>\n",
       "    .dataframe tbody tr th:only-of-type {\n",
       "        vertical-align: middle;\n",
       "    }\n",
       "\n",
       "    .dataframe tbody tr th {\n",
       "        vertical-align: top;\n",
       "    }\n",
       "\n",
       "    .dataframe thead th {\n",
       "        text-align: right;\n",
       "    }\n",
       "</style>\n",
       "<table border=\"1\" class=\"dataframe\">\n",
       "  <thead>\n",
       "    <tr style=\"text-align: right;\">\n",
       "      <th></th>\n",
       "      <th>index</th>\n",
       "      <th>Site Num</th>\n",
       "      <th>Address</th>\n",
       "      <th>State</th>\n",
       "      <th>County</th>\n",
       "      <th>City</th>\n",
       "      <th>Date</th>\n",
       "      <th>NO2 Mean</th>\n",
       "      <th>NO2 Max Value</th>\n",
       "      <th>NO2 Max Hour</th>\n",
       "      <th>...</th>\n",
       "      <th>monitoring_objective</th>\n",
       "      <th>Date:1</th>\n",
       "      <th>parameter_code</th>\n",
       "      <th>parameter_name</th>\n",
       "      <th>pl_probe_location</th>\n",
       "      <th>poc</th>\n",
       "      <th>si_id</th>\n",
       "      <th>site_number</th>\n",
       "      <th>state_code</th>\n",
       "      <th>State:2</th>\n",
       "    </tr>\n",
       "  </thead>\n",
       "  <tbody>\n",
       "    <tr>\n",
       "      <th>0</th>\n",
       "      <td>100755</td>\n",
       "      <td>4002</td>\n",
       "      <td>1820 S. 51St Ave.</td>\n",
       "      <td>Illinois</td>\n",
       "      <td>Cook</td>\n",
       "      <td>Cicero</td>\n",
       "      <td>2004-04-21</td>\n",
       "      <td>14.75</td>\n",
       "      <td>29.0</td>\n",
       "      <td>6</td>\n",
       "      <td>...</td>\n",
       "      <td>POPULATION EXPOSURE</td>\n",
       "      <td>2004-04-21</td>\n",
       "      <td>43236</td>\n",
       "      <td>2-Ethyl-1-butene</td>\n",
       "      <td>None</td>\n",
       "      <td>8</td>\n",
       "      <td>3783</td>\n",
       "      <td>4201</td>\n",
       "      <td>17</td>\n",
       "      <td>Illinois</td>\n",
       "    </tr>\n",
       "    <tr>\n",
       "      <th>1</th>\n",
       "      <td>100755</td>\n",
       "      <td>4002</td>\n",
       "      <td>1820 S. 51St Ave.</td>\n",
       "      <td>Illinois</td>\n",
       "      <td>Cook</td>\n",
       "      <td>Cicero</td>\n",
       "      <td>2004-04-21</td>\n",
       "      <td>14.75</td>\n",
       "      <td>29.0</td>\n",
       "      <td>6</td>\n",
       "      <td>...</td>\n",
       "      <td>POPULATION EXPOSURE</td>\n",
       "      <td>2004-04-21</td>\n",
       "      <td>43236</td>\n",
       "      <td>2-Ethyl-1-butene</td>\n",
       "      <td>None</td>\n",
       "      <td>8</td>\n",
       "      <td>3783</td>\n",
       "      <td>4201</td>\n",
       "      <td>17</td>\n",
       "      <td>Illinois</td>\n",
       "    </tr>\n",
       "    <tr>\n",
       "      <th>2</th>\n",
       "      <td>100755</td>\n",
       "      <td>4002</td>\n",
       "      <td>1820 S. 51St Ave.</td>\n",
       "      <td>Illinois</td>\n",
       "      <td>Cook</td>\n",
       "      <td>Cicero</td>\n",
       "      <td>2004-04-21</td>\n",
       "      <td>14.75</td>\n",
       "      <td>29.0</td>\n",
       "      <td>6</td>\n",
       "      <td>...</td>\n",
       "      <td>POPULATION EXPOSURE</td>\n",
       "      <td>2004-04-21</td>\n",
       "      <td>43236</td>\n",
       "      <td>2-Ethyl-1-butene</td>\n",
       "      <td>None</td>\n",
       "      <td>8</td>\n",
       "      <td>3783</td>\n",
       "      <td>4201</td>\n",
       "      <td>17</td>\n",
       "      <td>Illinois</td>\n",
       "    </tr>\n",
       "    <tr>\n",
       "      <th>3</th>\n",
       "      <td>100755</td>\n",
       "      <td>4002</td>\n",
       "      <td>1820 S. 51St Ave.</td>\n",
       "      <td>Illinois</td>\n",
       "      <td>Cook</td>\n",
       "      <td>Cicero</td>\n",
       "      <td>2004-04-21</td>\n",
       "      <td>14.75</td>\n",
       "      <td>29.0</td>\n",
       "      <td>6</td>\n",
       "      <td>...</td>\n",
       "      <td>POPULATION EXPOSURE</td>\n",
       "      <td>2004-04-21</td>\n",
       "      <td>43236</td>\n",
       "      <td>2-Ethyl-1-butene</td>\n",
       "      <td>None</td>\n",
       "      <td>8</td>\n",
       "      <td>3783</td>\n",
       "      <td>4201</td>\n",
       "      <td>17</td>\n",
       "      <td>Illinois</td>\n",
       "    </tr>\n",
       "    <tr>\n",
       "      <th>4</th>\n",
       "      <td>100755</td>\n",
       "      <td>4002</td>\n",
       "      <td>1820 S. 51St Ave.</td>\n",
       "      <td>Illinois</td>\n",
       "      <td>Cook</td>\n",
       "      <td>Cicero</td>\n",
       "      <td>2004-04-21</td>\n",
       "      <td>14.75</td>\n",
       "      <td>29.0</td>\n",
       "      <td>6</td>\n",
       "      <td>...</td>\n",
       "      <td>POPULATION EXPOSURE</td>\n",
       "      <td>2004-04-21</td>\n",
       "      <td>43236</td>\n",
       "      <td>2-Ethyl-1-butene</td>\n",
       "      <td>None</td>\n",
       "      <td>8</td>\n",
       "      <td>3783</td>\n",
       "      <td>4201</td>\n",
       "      <td>17</td>\n",
       "      <td>Illinois</td>\n",
       "    </tr>\n",
       "  </tbody>\n",
       "</table>\n",
       "<p>5 rows × 61 columns</p>\n",
       "</div>"
      ],
      "text/plain": [
       "    index  Site Num            Address     State County    City        Date  \\\n",
       "0  100755      4002  1820 S. 51St Ave.  Illinois   Cook  Cicero  2004-04-21   \n",
       "1  100755      4002  1820 S. 51St Ave.  Illinois   Cook  Cicero  2004-04-21   \n",
       "2  100755      4002  1820 S. 51St Ave.  Illinois   Cook  Cicero  2004-04-21   \n",
       "3  100755      4002  1820 S. 51St Ave.  Illinois   Cook  Cicero  2004-04-21   \n",
       "4  100755      4002  1820 S. 51St Ave.  Illinois   Cook  Cicero  2004-04-21   \n",
       "\n",
       "   NO2 Mean  NO2 Max Value  NO2 Max Hour  ...  monitoring_objective  \\\n",
       "0     14.75           29.0             6  ...   POPULATION EXPOSURE   \n",
       "1     14.75           29.0             6  ...   POPULATION EXPOSURE   \n",
       "2     14.75           29.0             6  ...   POPULATION EXPOSURE   \n",
       "3     14.75           29.0             6  ...   POPULATION EXPOSURE   \n",
       "4     14.75           29.0             6  ...   POPULATION EXPOSURE   \n",
       "\n",
       "       Date:1  parameter_code    parameter_name  pl_probe_location  poc  \\\n",
       "0  2004-04-21           43236  2-Ethyl-1-butene               None    8   \n",
       "1  2004-04-21           43236  2-Ethyl-1-butene               None    8   \n",
       "2  2004-04-21           43236  2-Ethyl-1-butene               None    8   \n",
       "3  2004-04-21           43236  2-Ethyl-1-butene               None    8   \n",
       "4  2004-04-21           43236  2-Ethyl-1-butene               None    8   \n",
       "\n",
       "   si_id  site_number  state_code   State:2  \n",
       "0   3783         4201          17  Illinois  \n",
       "1   3783         4201          17  Illinois  \n",
       "2   3783         4201          17  Illinois  \n",
       "3   3783         4201          17  Illinois  \n",
       "4   3783         4201          17  Illinois  \n",
       "\n",
       "[5 rows x 61 columns]"
      ]
     },
     "execution_count": 26,
     "metadata": {},
     "output_type": "execute_result"
    }
   ],
   "source": [
    "# Check the first few records of the extracted data frame\n",
    "combined_df.head()"
   ]
  },
  {
   "cell_type": "code",
   "execution_count": 27,
   "metadata": {},
   "outputs": [
    {
     "data": {
      "text/plain": [
       "(24497, 61)"
      ]
     },
     "execution_count": 27,
     "metadata": {},
     "output_type": "execute_result"
    }
   ],
   "source": [
    "# Check the size of the extracted data frame\n",
    "combined_df.shape"
   ]
  },
  {
   "cell_type": "code",
   "execution_count": 28,
   "metadata": {},
   "outputs": [],
   "source": [
    "# Close the database connection\n",
    "conn.close()"
   ]
  },
  {
   "cell_type": "code",
   "execution_count": 29,
   "metadata": {},
   "outputs": [
    {
     "data": {
      "text/plain": [
       "Index(['index', 'Site Num', 'Address', 'State', 'County', 'City', 'Date',\n",
       "       'NO2 Mean', 'NO2 Max Value', 'NO2 Max Hour', 'NO2 AQI', 'O3 Mean',\n",
       "       'O3 Max Value', 'O3 Max Hour', 'O3 AQI', 'SO2 Mean', 'SO2 Max Value',\n",
       "       'SO2 Max Hour', 'SO2 AQI', 'CO Mean', 'CO Max Value', 'CO Max Hour',\n",
       "       'CO AQI', 'index:1', 'County:1', 'State:1', 'Population', 'index:2',\n",
       "       'cbsa_address', 'cbsa_code', 'cbsa_name', 'City:1', 'close_date',\n",
       "       'county_code', 'County:2', 'csa_code', 'csa_name', 'datum', 'elevation',\n",
       "       'last_method_begin_date', 'last_method_code', 'last_method_description',\n",
       "       'lat_lon_accuracy', 'latitude', 'local_site_name', 'longitude',\n",
       "       'measurement_scale', 'measurement_scale_def', 'monitor_type',\n",
       "       'monitoring_agency', 'monitoring_agency_code', 'monitoring_objective',\n",
       "       'Date:1', 'parameter_code', 'parameter_name', 'pl_probe_location',\n",
       "       'poc', 'si_id', 'site_number', 'state_code', 'State:2'],\n",
       "      dtype='object')"
      ]
     },
     "execution_count": 29,
     "metadata": {},
     "output_type": "execute_result"
    }
   ],
   "source": [
    "# Review the column names of the extracted data frame\n",
    "combined_df.columns"
   ]
  },
  {
   "cell_type": "code",
   "execution_count": 30,
   "metadata": {},
   "outputs": [
    {
     "data": {
      "text/plain": [
       "<AxesSubplot:ylabel='None'>"
      ]
     },
     "execution_count": 30,
     "metadata": {},
     "output_type": "execute_result"
    },
    {
     "data": {
      "image/png": "[encoded data removed]",
      "text/plain": [
       "<Figure size 432x288 with 1 Axes>"
      ]
     },
     "metadata": {},
     "output_type": "display_data"
    }
   ],
   "source": [
    "# Pie chart for frequency of State values in the combined data frame\n",
    "combined_df.groupby('State').size().plot(kind='pie')"
   ]
  },
  {
   "cell_type": "code",
   "execution_count": 31,
   "metadata": {},
   "outputs": [
    {
     "data": {
      "text/plain": [
       "<AxesSubplot:xlabel='County'>"
      ]
     },
     "execution_count": 31,
     "metadata": {},
     "output_type": "execute_result"
    },
    {
     "data": {
      "image/png": "[encoded data removed]",
      "text/plain": [
       "<Figure size 432x288 with 1 Axes>"
      ]
     },
     "metadata": {
      "needs_background": "light"
     },
     "output_type": "display_data"
    }
   ],
   "source": [
    "# Bar chart for frequency of County values in the combined data frame\n",
    "combined_df.groupby('County').size().plot(kind='bar')"
   ]
  },
  {
   "cell_type": "code",
   "execution_count": 32,
   "metadata": {},
   "outputs": [
    {
     "data": {
      "image/png": "[encoded data removed]",
      "text/plain": [
       "<Figure size 432x288 with 1 Axes>"
      ]
     },
     "metadata": {
      "needs_background": "light"
     },
     "output_type": "display_data"
    }
   ],
   "source": [
    "# Scatter plot to check the relation between NO2 AQI from pollution data and Population from population data\n",
    "plt.scatter(combined_df['NO2 AQI'], combined_df['Population'])\n",
    "plt.xlabel('NO2 AQI')\n",
    "plt.ylabel('Population');"
   ]
  },
  {
   "cell_type": "code",
   "execution_count": 33,
   "metadata": {},
   "outputs": [],
   "source": [
    "# The scatter plat suggests that there is no linear relationship between NO2 AQI and Population"
   ]
  },
  {
   "cell_type": "code",
   "execution_count": 34,
   "metadata": {},
   "outputs": [
    {
     "data": {
      "image/png": "[encoded data removed]",
      "text/plain": [
       "<Figure size 432x288 with 1 Axes>"
      ]
     },
     "metadata": {
      "needs_background": "light"
     },
     "output_type": "display_data"
    }
   ],
   "source": [
    "# Scatter plot to check the relation between O3 AQI from pollution data and Population from population data\n",
    "plt.scatter(combined_df['O3 AQI'], combined_df['Population'])\n",
    "plt.xlabel('O3 AQI')\n",
    "plt.ylabel('Population');"
   ]
  },
  {
   "cell_type": "code",
   "execution_count": 35,
   "metadata": {},
   "outputs": [],
   "source": [
    "# The scatter plat suggests that there may be a strong positive linear relationship between O3 AQI and Population"
   ]
  },
  {
   "cell_type": "code",
   "execution_count": 36,
   "metadata": {},
   "outputs": [
    {
     "data": {
      "image/png": "[encoded data removed]",
      "text/plain": [
       "<Figure size 432x288 with 1 Axes>"
      ]
     },
     "metadata": {
      "needs_background": "light"
     },
     "output_type": "display_data"
    }
   ],
   "source": [
    "# Scatter plot to check the relation between SO2 AQI from pollution data and Population from population data\n",
    "plt.scatter(combined_df['SO2 AQI'], combined_df['Population'])\n",
    "plt.xlabel('SO2 AQI')\n",
    "plt.ylabel('Population');"
   ]
  },
  {
   "cell_type": "code",
   "execution_count": 37,
   "metadata": {},
   "outputs": [],
   "source": [
    "# The scatter plat suggests that there is no linear relationship between SO2 AQI and Population"
   ]
  },
  {
   "cell_type": "code",
   "execution_count": 38,
   "metadata": {},
   "outputs": [
    {
     "data": {
      "image/png": "[encoded data removed]",
      "text/plain": [
       "<Figure size 432x288 with 1 Axes>"
      ]
     },
     "metadata": {
      "needs_background": "light"
     },
     "output_type": "display_data"
    }
   ],
   "source": [
    "# Scatter plot to check the relation between CO AQI from pollution data and Population from population data\n",
    "plt.scatter(combined_df['CO AQI'], combined_df['Population'])\n",
    "plt.xlabel('CO AQI')\n",
    "plt.ylabel('Population');"
   ]
  },
  {
   "cell_type": "code",
   "execution_count": 39,
   "metadata": {},
   "outputs": [],
   "source": [
    "# The scatter plat suggests that there is no linear relationship between CO AQI and Population"
   ]
  },
  {
   "cell_type": "code",
   "execution_count": null,
   "metadata": {},
   "outputs": [],
   "source": []
  }
 ],
 "metadata": {
  "kernelspec": {
   "display_name": "Python 3",
   "language": "python",
   "name": "python3"
  },
  "language_info": {
   "codemirror_mode": {
    "name": "ipython",
    "version": 3
   },
   "file_extension": ".py",
   "mimetype": "text/x-python",
   "name": "python",
   "nbconvert_exporter": "python",
   "pygments_lexer": "ipython3",
   "version": "3.8.5"
  }
 },
 "nbformat": 4,
 "nbformat_minor": 4
}
