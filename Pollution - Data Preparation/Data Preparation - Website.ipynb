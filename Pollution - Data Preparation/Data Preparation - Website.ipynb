{
 "cells": [
  {
   "cell_type": "raw",
   "metadata": {},
   "source": [
    "Ajit Kolekar\n",
    "Data Preperation - Cleaning/Formatting Website Data"
   ]
  },
  {
   "cell_type": "code",
   "execution_count": 1,
   "metadata": {},
   "outputs": [],
   "source": [
    "# Load necessary libraries\n",
    "\n",
    "from bs4 import BeautifulSoup\n",
    "import requests\n",
    "import pandas as pd\n",
    "import numpy as np\n",
    "import matplotlib.pyplot as plt\n",
    "%matplotlib inline"
   ]
  },
  {
   "cell_type": "code",
   "execution_count": 2,
   "metadata": {},
   "outputs": [],
   "source": [
    "# Setup 'url' variable to store the URL \n",
    "url = \"https://en.wikipedia.org/wiki/List_of_United_States_counties_and_county_equivalents\"\n",
    "\n",
    "# using the requests library get a response of the url\n",
    "response = requests.get(url)\n",
    "\n",
    "# Using BeautifulSoup library store the html contents in the soup object\n",
    "soup = BeautifulSoup(response.content,'html.parser')"
   ]
  },
  {
   "cell_type": "code",
   "execution_count": 3,
   "metadata": {},
   "outputs": [
    {
     "name": "stdout",
     "output_type": "stream",
     "text": [
      "Total number of wikitables are 1.\n"
     ]
    }
   ],
   "source": [
    "# Search for all <table> tags with class of wikitable in the BeautifulSoup object and load results in all_wikitables element \n",
    "all_wikitables = soup.find_all('table', {\"class\" : \"wikitable\"})\n",
    "\n",
    "# Print total number of wikitables and confirm that there is only one wikitable that needs to be extracted.\n",
    "print(\"Total number of wikitables are {}.\".format(len(all_wikitables)))"
   ]
  },
  {
   "cell_type": "code",
   "execution_count": 4,
   "metadata": {},
   "outputs": [
    {
     "data": {
      "text/plain": [
       "['County or equivalent',\n",
       " 'State or equivalent',\n",
       " 'Population (2019 estimate)',\n",
       " 'Core\\xa0Based Statistical\\xa0Area']"
      ]
     },
     "execution_count": 4,
     "metadata": {},
     "output_type": "execute_result"
    }
   ],
   "source": [
    "# Find table headers in all_wikitables and load them in header list. Remove any leading or trailing spaces from the header text.\n",
    "\n",
    "header = []\n",
    "for th in all_wikitables[0].findAll('th'):\n",
    "    header.append(th.getText().strip())\n",
    "\n",
    "# Print the list of headers\n",
    "header"
   ]
  },
  {
   "cell_type": "code",
   "execution_count": 5,
   "metadata": {},
   "outputs": [],
   "source": [
    "# Find all table rows in all_wikitables and load them in rows list starting with second instance, since the first instance \n",
    "# is for headers.\n",
    "\n",
    "rows = all_wikitables[0].findAll('tr')[1:]"
   ]
  },
  {
   "cell_type": "code",
   "execution_count": 6,
   "metadata": {},
   "outputs": [],
   "source": [
    "# Extract the text contents for each element of table from rows into a list of lists data_rows, where there is a list for \n",
    "# each row. Remove any leading or trailing spaces from the element text.\n",
    "\n",
    "data_rows = []\n",
    "\n",
    "for tr in rows:\n",
    "    row_elements = []\n",
    "    for td in tr.findAll('td'):\n",
    "        row_elements.append(td.get_text().strip())\n",
    "    data_rows.append(row_elements)"
   ]
  },
  {
   "cell_type": "code",
   "execution_count": 7,
   "metadata": {},
   "outputs": [],
   "source": [
    "# Use the rows from the data_rows list and the header list to create a data frame for wiki table\n",
    "\n",
    "population_df = pd.DataFrame(data_rows, columns=header)"
   ]
  },
  {
   "cell_type": "code",
   "execution_count": 8,
   "metadata": {},
   "outputs": [
    {
     "data": {
      "text/html": [
       "<div>\n",
       "<style scoped>\n",
       "    .dataframe tbody tr th:only-of-type {\n",
       "        vertical-align: middle;\n",
       "    }\n",
       "\n",
       "    .dataframe tbody tr th {\n",
       "        vertical-align: top;\n",
       "    }\n",
       "\n",
       "    .dataframe thead th {\n",
       "        text-align: right;\n",
       "    }\n",
       "</style>\n",
       "<table border=\"1\" class=\"dataframe\">\n",
       "  <thead>\n",
       "    <tr style=\"text-align: right;\">\n",
       "      <th></th>\n",
       "      <th>County or equivalent</th>\n",
       "      <th>State or equivalent</th>\n",
       "      <th>Population (2019 estimate)</th>\n",
       "      <th>Core Based Statistical Area</th>\n",
       "    </tr>\n",
       "  </thead>\n",
       "  <tbody>\n",
       "    <tr>\n",
       "      <th>0</th>\n",
       "      <td>Autauga</td>\n",
       "      <td>Alabama</td>\n",
       "      <td>55,869</td>\n",
       "      <td>Montgomery, AL Metropolitan Statistical Area</td>\n",
       "    </tr>\n",
       "    <tr>\n",
       "      <th>1</th>\n",
       "      <td>Baldwin</td>\n",
       "      <td>223,234</td>\n",
       "      <td>Daphne-Fairhope-Foley, AL Metropolitan Statist...</td>\n",
       "      <td>None</td>\n",
       "    </tr>\n",
       "    <tr>\n",
       "      <th>2</th>\n",
       "      <td>Barbour</td>\n",
       "      <td>24,686</td>\n",
       "      <td></td>\n",
       "      <td>None</td>\n",
       "    </tr>\n",
       "    <tr>\n",
       "      <th>3</th>\n",
       "      <td>Bibb</td>\n",
       "      <td>22,394</td>\n",
       "      <td>Birmingham-Hoover, AL Metropolitan Statistical...</td>\n",
       "      <td>None</td>\n",
       "    </tr>\n",
       "    <tr>\n",
       "      <th>4</th>\n",
       "      <td>Blount</td>\n",
       "      <td>57,826</td>\n",
       "      <td>Birmingham-Hoover, AL Metropolitan Statistical...</td>\n",
       "      <td>None</td>\n",
       "    </tr>\n",
       "  </tbody>\n",
       "</table>\n",
       "</div>"
      ],
      "text/plain": [
       "  County or equivalent State or equivalent  \\\n",
       "0              Autauga             Alabama   \n",
       "1              Baldwin             223,234   \n",
       "2              Barbour              24,686   \n",
       "3                 Bibb              22,394   \n",
       "4               Blount              57,826   \n",
       "\n",
       "                          Population (2019 estimate)  \\\n",
       "0                                             55,869   \n",
       "1  Daphne-Fairhope-Foley, AL Metropolitan Statist...   \n",
       "2                                                      \n",
       "3  Birmingham-Hoover, AL Metropolitan Statistical...   \n",
       "4  Birmingham-Hoover, AL Metropolitan Statistical...   \n",
       "\n",
       "                    Core Based Statistical Area  \n",
       "0  Montgomery, AL Metropolitan Statistical Area  \n",
       "1                                          None  \n",
       "2                                          None  \n",
       "3                                          None  \n",
       "4                                          None  "
      ]
     },
     "execution_count": 8,
     "metadata": {},
     "output_type": "execute_result"
    }
   ],
   "source": [
    "# Review first few records in the data frame using head() function\n",
    "population_df.head()"
   ]
  },
  {
   "cell_type": "code",
   "execution_count": 9,
   "metadata": {},
   "outputs": [],
   "source": [
    "# It looks like the 'State or equivalent' exists only once for all 'County or equivalent' values for the 'State or \n",
    "# equivalent'. Due to this reason, the values of 'Population (2019 estimate)' and 'Core Based Statistical Area' have \n",
    "# shifted by one column to the left when the 'State or equivalent' value does not exist. This issue can be corrected \n",
    "# by using one of the two options: \n",
    "\n",
    "# 1. Fix the data in the data frame by shifting some of the values to the right by one position\n",
    "# 2. Extract the data from the HTML and shift the values before creating the data frame\n",
    "\n",
    "# I opted for option 2, where I am looking at the number of table data elements. When there are four elements, the 'State \n",
    "# or equivalent' value exists, otherwise the 'State or equivalent' value does not exist. \n",
    "\n",
    "# I captured the 'State or equivalent' value when the length is four, and used it to populate the 'State or equivalent' value \n",
    "# for further rows until the next 'State or equivalent' value was returned (length of four elements). \n",
    "\n",
    "# I also shifted the other two elements to right by one position when number of elements were 3.  \n",
    "\n",
    "data_rows = []\n",
    "\n",
    "for tr in rows:\n",
    "    row_elements = []\n",
    "    for td in tr.findAll('td'):\n",
    "        row_elements.append(td.get_text().strip())\n",
    "    if(len(row_elements)== 4):\n",
    "        state = row_elements[1]\n",
    "    else:\n",
    "        row_elements.append(row_elements[2])\n",
    "        row_elements[2] = row_elements[1]\n",
    "        row_elements[1] = state\n",
    "    data_rows.append(row_elements)"
   ]
  },
  {
   "cell_type": "code",
   "execution_count": 10,
   "metadata": {},
   "outputs": [],
   "source": [
    "# Use the rows from the data_rows list and the header list to create a data frame for wiki table\n",
    "\n",
    "population_df = pd.DataFrame(data_rows, columns=header)"
   ]
  },
  {
   "cell_type": "code",
   "execution_count": 11,
   "metadata": {},
   "outputs": [
    {
     "data": {
      "text/html": [
       "<div>\n",
       "<style scoped>\n",
       "    .dataframe tbody tr th:only-of-type {\n",
       "        vertical-align: middle;\n",
       "    }\n",
       "\n",
       "    .dataframe tbody tr th {\n",
       "        vertical-align: top;\n",
       "    }\n",
       "\n",
       "    .dataframe thead th {\n",
       "        text-align: right;\n",
       "    }\n",
       "</style>\n",
       "<table border=\"1\" class=\"dataframe\">\n",
       "  <thead>\n",
       "    <tr style=\"text-align: right;\">\n",
       "      <th></th>\n",
       "      <th>County or equivalent</th>\n",
       "      <th>State or equivalent</th>\n",
       "      <th>Population (2019 estimate)</th>\n",
       "      <th>Core Based Statistical Area</th>\n",
       "    </tr>\n",
       "  </thead>\n",
       "  <tbody>\n",
       "    <tr>\n",
       "      <th>0</th>\n",
       "      <td>Autauga</td>\n",
       "      <td>Alabama</td>\n",
       "      <td>55,869</td>\n",
       "      <td>Montgomery, AL Metropolitan Statistical Area</td>\n",
       "    </tr>\n",
       "    <tr>\n",
       "      <th>1</th>\n",
       "      <td>Baldwin</td>\n",
       "      <td>Alabama</td>\n",
       "      <td>223,234</td>\n",
       "      <td>Daphne-Fairhope-Foley, AL Metropolitan Statist...</td>\n",
       "    </tr>\n",
       "    <tr>\n",
       "      <th>2</th>\n",
       "      <td>Barbour</td>\n",
       "      <td>Alabama</td>\n",
       "      <td>24,686</td>\n",
       "      <td></td>\n",
       "    </tr>\n",
       "    <tr>\n",
       "      <th>3</th>\n",
       "      <td>Bibb</td>\n",
       "      <td>Alabama</td>\n",
       "      <td>22,394</td>\n",
       "      <td>Birmingham-Hoover, AL Metropolitan Statistical...</td>\n",
       "    </tr>\n",
       "    <tr>\n",
       "      <th>4</th>\n",
       "      <td>Blount</td>\n",
       "      <td>Alabama</td>\n",
       "      <td>57,826</td>\n",
       "      <td>Birmingham-Hoover, AL Metropolitan Statistical...</td>\n",
       "    </tr>\n",
       "  </tbody>\n",
       "</table>\n",
       "</div>"
      ],
      "text/plain": [
       "  County or equivalent State or equivalent Population (2019 estimate)  \\\n",
       "0              Autauga             Alabama                     55,869   \n",
       "1              Baldwin             Alabama                    223,234   \n",
       "2              Barbour             Alabama                     24,686   \n",
       "3                 Bibb             Alabama                     22,394   \n",
       "4               Blount             Alabama                     57,826   \n",
       "\n",
       "                         Core Based Statistical Area  \n",
       "0       Montgomery, AL Metropolitan Statistical Area  \n",
       "1  Daphne-Fairhope-Foley, AL Metropolitan Statist...  \n",
       "2                                                     \n",
       "3  Birmingham-Hoover, AL Metropolitan Statistical...  \n",
       "4  Birmingham-Hoover, AL Metropolitan Statistical...  "
      ]
     },
     "execution_count": 11,
     "metadata": {},
     "output_type": "execute_result"
    }
   ],
   "source": [
    "# Review first few records in the data frame using head() function\n",
    "population_df.head()"
   ]
  },
  {
   "cell_type": "code",
   "execution_count": 12,
   "metadata": {},
   "outputs": [
    {
     "data": {
      "text/plain": [
       "(3245, 4)"
      ]
     },
     "execution_count": 12,
     "metadata": {},
     "output_type": "execute_result"
    }
   ],
   "source": [
    "# Check the number of rows and columns of the data frame using shape method\n",
    "population_df.shape"
   ]
  },
  {
   "cell_type": "code",
   "execution_count": 13,
   "metadata": {},
   "outputs": [
    {
     "data": {
      "text/html": [
       "<div>\n",
       "<style scoped>\n",
       "    .dataframe tbody tr th:only-of-type {\n",
       "        vertical-align: middle;\n",
       "    }\n",
       "\n",
       "    .dataframe tbody tr th {\n",
       "        vertical-align: top;\n",
       "    }\n",
       "\n",
       "    .dataframe thead th {\n",
       "        text-align: right;\n",
       "    }\n",
       "</style>\n",
       "<table border=\"1\" class=\"dataframe\">\n",
       "  <thead>\n",
       "    <tr style=\"text-align: right;\">\n",
       "      <th></th>\n",
       "      <th>County or equivalent</th>\n",
       "      <th>Population (2019 estimate)</th>\n",
       "      <th>Core Based Statistical Area</th>\n",
       "    </tr>\n",
       "    <tr>\n",
       "      <th>State or equivalent</th>\n",
       "      <th></th>\n",
       "      <th></th>\n",
       "      <th></th>\n",
       "    </tr>\n",
       "  </thead>\n",
       "  <tbody>\n",
       "    <tr>\n",
       "      <th>Alabama</th>\n",
       "      <td>67</td>\n",
       "      <td>67</td>\n",
       "      <td>67</td>\n",
       "    </tr>\n",
       "    <tr>\n",
       "      <th>Alaska</th>\n",
       "      <td>30</td>\n",
       "      <td>30</td>\n",
       "      <td>30</td>\n",
       "    </tr>\n",
       "    <tr>\n",
       "      <th>American Samoa</th>\n",
       "      <td>5</td>\n",
       "      <td>5</td>\n",
       "      <td>5</td>\n",
       "    </tr>\n",
       "    <tr>\n",
       "      <th>Arizona</th>\n",
       "      <td>15</td>\n",
       "      <td>15</td>\n",
       "      <td>15</td>\n",
       "    </tr>\n",
       "    <tr>\n",
       "      <th>Arkansas</th>\n",
       "      <td>75</td>\n",
       "      <td>75</td>\n",
       "      <td>75</td>\n",
       "    </tr>\n",
       "    <tr>\n",
       "      <th>California</th>\n",
       "      <td>58</td>\n",
       "      <td>58</td>\n",
       "      <td>58</td>\n",
       "    </tr>\n",
       "    <tr>\n",
       "      <th>Colorado</th>\n",
       "      <td>64</td>\n",
       "      <td>64</td>\n",
       "      <td>64</td>\n",
       "    </tr>\n",
       "    <tr>\n",
       "      <th>Connecticut</th>\n",
       "      <td>8</td>\n",
       "      <td>8</td>\n",
       "      <td>8</td>\n",
       "    </tr>\n",
       "    <tr>\n",
       "      <th>Delaware</th>\n",
       "      <td>3</td>\n",
       "      <td>3</td>\n",
       "      <td>3</td>\n",
       "    </tr>\n",
       "    <tr>\n",
       "      <th>District of Columbia</th>\n",
       "      <td>1</td>\n",
       "      <td>1</td>\n",
       "      <td>1</td>\n",
       "    </tr>\n",
       "    <tr>\n",
       "      <th>Florida</th>\n",
       "      <td>67</td>\n",
       "      <td>67</td>\n",
       "      <td>67</td>\n",
       "    </tr>\n",
       "    <tr>\n",
       "      <th>Georgia</th>\n",
       "      <td>159</td>\n",
       "      <td>159</td>\n",
       "      <td>159</td>\n",
       "    </tr>\n",
       "    <tr>\n",
       "      <th>Guam</th>\n",
       "      <td>1</td>\n",
       "      <td>1</td>\n",
       "      <td>1</td>\n",
       "    </tr>\n",
       "    <tr>\n",
       "      <th>Hawaiʻi</th>\n",
       "      <td>5</td>\n",
       "      <td>5</td>\n",
       "      <td>5</td>\n",
       "    </tr>\n",
       "    <tr>\n",
       "      <th>Idaho</th>\n",
       "      <td>44</td>\n",
       "      <td>44</td>\n",
       "      <td>44</td>\n",
       "    </tr>\n",
       "    <tr>\n",
       "      <th>Illinois</th>\n",
       "      <td>102</td>\n",
       "      <td>102</td>\n",
       "      <td>102</td>\n",
       "    </tr>\n",
       "    <tr>\n",
       "      <th>Indiana</th>\n",
       "      <td>92</td>\n",
       "      <td>92</td>\n",
       "      <td>92</td>\n",
       "    </tr>\n",
       "    <tr>\n",
       "      <th>Iowa</th>\n",
       "      <td>99</td>\n",
       "      <td>99</td>\n",
       "      <td>99</td>\n",
       "    </tr>\n",
       "    <tr>\n",
       "      <th>Kansas</th>\n",
       "      <td>105</td>\n",
       "      <td>105</td>\n",
       "      <td>105</td>\n",
       "    </tr>\n",
       "    <tr>\n",
       "      <th>Kentucky</th>\n",
       "      <td>120</td>\n",
       "      <td>120</td>\n",
       "      <td>120</td>\n",
       "    </tr>\n",
       "    <tr>\n",
       "      <th>Louisiana</th>\n",
       "      <td>64</td>\n",
       "      <td>64</td>\n",
       "      <td>64</td>\n",
       "    </tr>\n",
       "    <tr>\n",
       "      <th>Maine</th>\n",
       "      <td>16</td>\n",
       "      <td>16</td>\n",
       "      <td>16</td>\n",
       "    </tr>\n",
       "    <tr>\n",
       "      <th>Maryland</th>\n",
       "      <td>24</td>\n",
       "      <td>24</td>\n",
       "      <td>24</td>\n",
       "    </tr>\n",
       "    <tr>\n",
       "      <th>Massachusetts</th>\n",
       "      <td>14</td>\n",
       "      <td>14</td>\n",
       "      <td>14</td>\n",
       "    </tr>\n",
       "    <tr>\n",
       "      <th>Michigan</th>\n",
       "      <td>83</td>\n",
       "      <td>83</td>\n",
       "      <td>83</td>\n",
       "    </tr>\n",
       "    <tr>\n",
       "      <th>Minnesota</th>\n",
       "      <td>87</td>\n",
       "      <td>87</td>\n",
       "      <td>87</td>\n",
       "    </tr>\n",
       "    <tr>\n",
       "      <th>Mississippi</th>\n",
       "      <td>82</td>\n",
       "      <td>82</td>\n",
       "      <td>82</td>\n",
       "    </tr>\n",
       "    <tr>\n",
       "      <th>Missouri</th>\n",
       "      <td>115</td>\n",
       "      <td>115</td>\n",
       "      <td>115</td>\n",
       "    </tr>\n",
       "    <tr>\n",
       "      <th>Montana</th>\n",
       "      <td>56</td>\n",
       "      <td>56</td>\n",
       "      <td>56</td>\n",
       "    </tr>\n",
       "    <tr>\n",
       "      <th>Nebraska</th>\n",
       "      <td>93</td>\n",
       "      <td>93</td>\n",
       "      <td>93</td>\n",
       "    </tr>\n",
       "    <tr>\n",
       "      <th>Nevada</th>\n",
       "      <td>17</td>\n",
       "      <td>17</td>\n",
       "      <td>17</td>\n",
       "    </tr>\n",
       "    <tr>\n",
       "      <th>New Hampshire</th>\n",
       "      <td>10</td>\n",
       "      <td>10</td>\n",
       "      <td>10</td>\n",
       "    </tr>\n",
       "    <tr>\n",
       "      <th>New Jersey</th>\n",
       "      <td>21</td>\n",
       "      <td>21</td>\n",
       "      <td>21</td>\n",
       "    </tr>\n",
       "    <tr>\n",
       "      <th>New Mexico</th>\n",
       "      <td>33</td>\n",
       "      <td>33</td>\n",
       "      <td>33</td>\n",
       "    </tr>\n",
       "    <tr>\n",
       "      <th>New York</th>\n",
       "      <td>62</td>\n",
       "      <td>62</td>\n",
       "      <td>62</td>\n",
       "    </tr>\n",
       "    <tr>\n",
       "      <th>North Carolina</th>\n",
       "      <td>100</td>\n",
       "      <td>100</td>\n",
       "      <td>100</td>\n",
       "    </tr>\n",
       "    <tr>\n",
       "      <th>North Dakota</th>\n",
       "      <td>53</td>\n",
       "      <td>53</td>\n",
       "      <td>53</td>\n",
       "    </tr>\n",
       "    <tr>\n",
       "      <th>Northern Mariana Islands</th>\n",
       "      <td>4</td>\n",
       "      <td>4</td>\n",
       "      <td>4</td>\n",
       "    </tr>\n",
       "    <tr>\n",
       "      <th>Ohio</th>\n",
       "      <td>88</td>\n",
       "      <td>88</td>\n",
       "      <td>88</td>\n",
       "    </tr>\n",
       "    <tr>\n",
       "      <th>Oklahoma</th>\n",
       "      <td>77</td>\n",
       "      <td>77</td>\n",
       "      <td>77</td>\n",
       "    </tr>\n",
       "    <tr>\n",
       "      <th>Oregon</th>\n",
       "      <td>36</td>\n",
       "      <td>36</td>\n",
       "      <td>36</td>\n",
       "    </tr>\n",
       "    <tr>\n",
       "      <th>Pennsylvania</th>\n",
       "      <td>67</td>\n",
       "      <td>67</td>\n",
       "      <td>67</td>\n",
       "    </tr>\n",
       "    <tr>\n",
       "      <th>Puerto Rico</th>\n",
       "      <td>78</td>\n",
       "      <td>78</td>\n",
       "      <td>78</td>\n",
       "    </tr>\n",
       "    <tr>\n",
       "      <th>Rhode Island</th>\n",
       "      <td>5</td>\n",
       "      <td>5</td>\n",
       "      <td>5</td>\n",
       "    </tr>\n",
       "    <tr>\n",
       "      <th>South Carolina</th>\n",
       "      <td>46</td>\n",
       "      <td>46</td>\n",
       "      <td>46</td>\n",
       "    </tr>\n",
       "    <tr>\n",
       "      <th>South Dakota</th>\n",
       "      <td>66</td>\n",
       "      <td>66</td>\n",
       "      <td>66</td>\n",
       "    </tr>\n",
       "    <tr>\n",
       "      <th>Tennessee</th>\n",
       "      <td>95</td>\n",
       "      <td>95</td>\n",
       "      <td>95</td>\n",
       "    </tr>\n",
       "    <tr>\n",
       "      <th>Texas</th>\n",
       "      <td>254</td>\n",
       "      <td>254</td>\n",
       "      <td>254</td>\n",
       "    </tr>\n",
       "    <tr>\n",
       "      <th>U.S. Minor Outlying Islands</th>\n",
       "      <td>11</td>\n",
       "      <td>11</td>\n",
       "      <td>11</td>\n",
       "    </tr>\n",
       "    <tr>\n",
       "      <th>Utah</th>\n",
       "      <td>29</td>\n",
       "      <td>29</td>\n",
       "      <td>29</td>\n",
       "    </tr>\n",
       "    <tr>\n",
       "      <th>Vermont</th>\n",
       "      <td>14</td>\n",
       "      <td>14</td>\n",
       "      <td>14</td>\n",
       "    </tr>\n",
       "    <tr>\n",
       "      <th>Virgin Islands (U.S.)</th>\n",
       "      <td>3</td>\n",
       "      <td>3</td>\n",
       "      <td>3</td>\n",
       "    </tr>\n",
       "    <tr>\n",
       "      <th>Virginia</th>\n",
       "      <td>133</td>\n",
       "      <td>133</td>\n",
       "      <td>133</td>\n",
       "    </tr>\n",
       "    <tr>\n",
       "      <th>Washington</th>\n",
       "      <td>39</td>\n",
       "      <td>39</td>\n",
       "      <td>39</td>\n",
       "    </tr>\n",
       "    <tr>\n",
       "      <th>West Virginia</th>\n",
       "      <td>55</td>\n",
       "      <td>55</td>\n",
       "      <td>55</td>\n",
       "    </tr>\n",
       "    <tr>\n",
       "      <th>Wisconsin</th>\n",
       "      <td>72</td>\n",
       "      <td>72</td>\n",
       "      <td>72</td>\n",
       "    </tr>\n",
       "    <tr>\n",
       "      <th>Wyoming</th>\n",
       "      <td>23</td>\n",
       "      <td>23</td>\n",
       "      <td>23</td>\n",
       "    </tr>\n",
       "  </tbody>\n",
       "</table>\n",
       "</div>"
      ],
      "text/plain": [
       "                             County or equivalent  Population (2019 estimate)  \\\n",
       "State or equivalent                                                             \n",
       "Alabama                                        67                          67   \n",
       "Alaska                                         30                          30   \n",
       "American Samoa                                  5                           5   \n",
       "Arizona                                        15                          15   \n",
       "Arkansas                                       75                          75   \n",
       "California                                     58                          58   \n",
       "Colorado                                       64                          64   \n",
       "Connecticut                                     8                           8   \n",
       "Delaware                                        3                           3   \n",
       "District of Columbia                            1                           1   \n",
       "Florida                                        67                          67   \n",
       "Georgia                                       159                         159   \n",
       "Guam                                            1                           1   \n",
       "Hawaiʻi                                         5                           5   \n",
       "Idaho                                          44                          44   \n",
       "Illinois                                      102                         102   \n",
       "Indiana                                        92                          92   \n",
       "Iowa                                           99                          99   \n",
       "Kansas                                        105                         105   \n",
       "Kentucky                                      120                         120   \n",
       "Louisiana                                      64                          64   \n",
       "Maine                                          16                          16   \n",
       "Maryland                                       24                          24   \n",
       "Massachusetts                                  14                          14   \n",
       "Michigan                                       83                          83   \n",
       "Minnesota                                      87                          87   \n",
       "Mississippi                                    82                          82   \n",
       "Missouri                                      115                         115   \n",
       "Montana                                        56                          56   \n",
       "Nebraska                                       93                          93   \n",
       "Nevada                                         17                          17   \n",
       "New Hampshire                                  10                          10   \n",
       "New Jersey                                     21                          21   \n",
       "New Mexico                                     33                          33   \n",
       "New York                                       62                          62   \n",
       "North Carolina                                100                         100   \n",
       "North Dakota                                   53                          53   \n",
       "Northern Mariana Islands                        4                           4   \n",
       "Ohio                                           88                          88   \n",
       "Oklahoma                                       77                          77   \n",
       "Oregon                                         36                          36   \n",
       "Pennsylvania                                   67                          67   \n",
       "Puerto Rico                                    78                          78   \n",
       "Rhode Island                                    5                           5   \n",
       "South Carolina                                 46                          46   \n",
       "South Dakota                                   66                          66   \n",
       "Tennessee                                      95                          95   \n",
       "Texas                                         254                         254   \n",
       "U.S. Minor Outlying Islands                    11                          11   \n",
       "Utah                                           29                          29   \n",
       "Vermont                                        14                          14   \n",
       "Virgin Islands (U.S.)                           3                           3   \n",
       "Virginia                                      133                         133   \n",
       "Washington                                     39                          39   \n",
       "West Virginia                                  55                          55   \n",
       "Wisconsin                                      72                          72   \n",
       "Wyoming                                        23                          23   \n",
       "\n",
       "                             Core Based Statistical Area  \n",
       "State or equivalent                                       \n",
       "Alabama                                               67  \n",
       "Alaska                                                30  \n",
       "American Samoa                                         5  \n",
       "Arizona                                               15  \n",
       "Arkansas                                              75  \n",
       "California                                            58  \n",
       "Colorado                                              64  \n",
       "Connecticut                                            8  \n",
       "Delaware                                               3  \n",
       "District of Columbia                                   1  \n",
       "Florida                                               67  \n",
       "Georgia                                              159  \n",
       "Guam                                                   1  \n",
       "Hawaiʻi                                                5  \n",
       "Idaho                                                 44  \n",
       "Illinois                                             102  \n",
       "Indiana                                               92  \n",
       "Iowa                                                  99  \n",
       "Kansas                                               105  \n",
       "Kentucky                                             120  \n",
       "Louisiana                                             64  \n",
       "Maine                                                 16  \n",
       "Maryland                                              24  \n",
       "Massachusetts                                         14  \n",
       "Michigan                                              83  \n",
       "Minnesota                                             87  \n",
       "Mississippi                                           82  \n",
       "Missouri                                             115  \n",
       "Montana                                               56  \n",
       "Nebraska                                              93  \n",
       "Nevada                                                17  \n",
       "New Hampshire                                         10  \n",
       "New Jersey                                            21  \n",
       "New Mexico                                            33  \n",
       "New York                                              62  \n",
       "North Carolina                                       100  \n",
       "North Dakota                                          53  \n",
       "Northern Mariana Islands                               4  \n",
       "Ohio                                                  88  \n",
       "Oklahoma                                              77  \n",
       "Oregon                                                36  \n",
       "Pennsylvania                                          67  \n",
       "Puerto Rico                                           78  \n",
       "Rhode Island                                           5  \n",
       "South Carolina                                        46  \n",
       "South Dakota                                          66  \n",
       "Tennessee                                             95  \n",
       "Texas                                                254  \n",
       "U.S. Minor Outlying Islands                           11  \n",
       "Utah                                                  29  \n",
       "Vermont                                               14  \n",
       "Virgin Islands (U.S.)                                  3  \n",
       "Virginia                                             133  \n",
       "Washington                                            39  \n",
       "West Virginia                                         55  \n",
       "Wisconsin                                             72  \n",
       "Wyoming                                               23  "
      ]
     },
     "execution_count": 13,
     "metadata": {},
     "output_type": "execute_result"
    }
   ],
   "source": [
    "# To confirm that 'State or equivalent' values are correctly populated, group the data by 'State or equivalent' and count the \n",
    "# frequency for each state. Validate that there are no counts for invalid or null 'State or equivalent' values.\n",
    "\n",
    "population_df.groupby(['State or equivalent']).count()"
   ]
  },
  {
   "cell_type": "code",
   "execution_count": 14,
   "metadata": {},
   "outputs": [
    {
     "name": "stdout",
     "output_type": "stream",
     "text": [
      "Alabama\n",
      "Wyoming\n"
     ]
    }
   ],
   "source": [
    "# Confirm that the 'State or equivalent' values are correctly populated by using min() and max() functions \n",
    "print(min(population_df['State or equivalent']))\n",
    "print(max(population_df['State or equivalent']))"
   ]
  },
  {
   "cell_type": "code",
   "execution_count": 15,
   "metadata": {},
   "outputs": [],
   "source": [
    "# After Reviewing the data, it appears that 'Core\\xa0Based Statistical\\xa0Area' data column is not needed. \n",
    "# Delete the column.\n",
    "\n",
    "del population_df['Core\\xa0Based Statistical\\xa0Area']"
   ]
  },
  {
   "cell_type": "code",
   "execution_count": 16,
   "metadata": {},
   "outputs": [
    {
     "data": {
      "text/plain": [
       "Index(['County or equivalent', 'State or equivalent',\n",
       "       'Population (2019 estimate)'],\n",
       "      dtype='object')"
      ]
     },
     "execution_count": 16,
     "metadata": {},
     "output_type": "execute_result"
    }
   ],
   "source": [
    "# Check how other columns are defined.\n",
    "\n",
    "population_df.columns"
   ]
  },
  {
   "cell_type": "code",
   "execution_count": 17,
   "metadata": {},
   "outputs": [],
   "source": [
    "# Rename the columns with appropriate short names\n",
    "\n",
    "population_df.rename(columns={'County or equivalent': 'County', \n",
    "                            'State or equivalent': 'State',\n",
    "                            'Population (2019 estimate)':'Population'}, inplace=True)"
   ]
  },
  {
   "cell_type": "code",
   "execution_count": 18,
   "metadata": {},
   "outputs": [
    {
     "data": {
      "text/plain": [
       "Index(['County', 'State', 'Population'], dtype='object')"
      ]
     },
     "execution_count": 18,
     "metadata": {},
     "output_type": "execute_result"
    }
   ],
   "source": [
    "# Confirm that the column names are updated\n",
    "\n",
    "population_df.columns"
   ]
  },
  {
   "cell_type": "code",
   "execution_count": 19,
   "metadata": {},
   "outputs": [
    {
     "data": {
      "text/plain": [
       "County        0\n",
       "State         0\n",
       "Population    0\n",
       "dtype: int64"
      ]
     },
     "execution_count": 19,
     "metadata": {},
     "output_type": "execute_result"
    }
   ],
   "source": [
    "# The missing values are identified as null and can be checked by using isnull() function. Find missing values for each column\n",
    "# and add them by using sum() function to determine how many missing values exist for each column.\n",
    "\n",
    "population_df.isnull().sum()"
   ]
  },
  {
   "cell_type": "code",
   "execution_count": 20,
   "metadata": {},
   "outputs": [],
   "source": [
    "# Since there are no missing values, no action is needed to handle missing values."
   ]
  },
  {
   "cell_type": "code",
   "execution_count": 21,
   "metadata": {},
   "outputs": [
    {
     "name": "stdout",
     "output_type": "stream",
     "text": [
      "State is duplicated - True\n",
      "County is duplicated - True\n"
     ]
    }
   ],
   "source": [
    "# Check for duplicate values in 'County' and 'State' columns\n",
    "\n",
    "print(\"State is duplicated - {}\".format(any(population_df.State.duplicated())))\n",
    "print(\"County is duplicated - {}\".format(any(population_df.County.duplicated())))"
   ]
  },
  {
   "cell_type": "code",
   "execution_count": 22,
   "metadata": {},
   "outputs": [],
   "source": [
    "# Since the 'State' value was duplicated for each corresponding county, it is obvious to have duplicate values for state.\n",
    "# It is also possible to have same county name in multiple states. \n",
    "# Since the duplicates are allowed, no additional action is needed to handle duplicate values."
   ]
  },
  {
   "cell_type": "code",
   "execution_count": 23,
   "metadata": {},
   "outputs": [
    {
     "data": {
      "text/plain": [
       "str"
      ]
     },
     "execution_count": 23,
     "metadata": {},
     "output_type": "execute_result"
    }
   ],
   "source": [
    "# use the boxplot() function to create a box plot for Population column. Check the type of Population column first.\n",
    "type(population_df['Population'][0])"
   ]
  },
  {
   "cell_type": "code",
   "execution_count": 24,
   "metadata": {},
   "outputs": [],
   "source": [
    "# Since the population column is of str type, the values need to be converted to int type before creating box plot.\n",
    "# The commas in the values need to be removed using replace function before converting the values to int.\n",
    "population_df['Population'] = population_df['Population'].str.replace(',','')"
   ]
  },
  {
   "cell_type": "code",
   "execution_count": 25,
   "metadata": {},
   "outputs": [],
   "source": [
    "# Convert the values in Population column to int from str.\n",
    "population_df['Population'] = population_df['Population'].astype(int)"
   ]
  },
  {
   "cell_type": "code",
   "execution_count": 26,
   "metadata": {},
   "outputs": [
    {
     "data": {
      "text/plain": [
       "{'whiskers': [<matplotlib.lines.Line2D at 0x178fecd6130>,\n",
       "  <matplotlib.lines.Line2D at 0x178fecd6490>],\n",
       " 'caps': [<matplotlib.lines.Line2D at 0x178fecd67f0>,\n",
       "  <matplotlib.lines.Line2D at 0x178fecd6b50>],\n",
       " 'boxes': [<matplotlib.lines.Line2D at 0x178fea32d90>],\n",
       " 'medians': [<matplotlib.lines.Line2D at 0x178fecd6eb0>],\n",
       " 'fliers': [<matplotlib.lines.Line2D at 0x178fece2250>],\n",
       " 'means': []}"
      ]
     },
     "execution_count": 26,
     "metadata": {},
     "output_type": "execute_result"
    },
    {
     "data": {
      "image/png": "[encoded data removed]",
      "text/plain": [
       "<Figure size 432x288 with 1 Axes>"
      ]
     },
     "metadata": {
      "needs_background": "light"
     },
     "output_type": "display_data"
    }
   ],
   "source": [
    "# use the boxplot() function to create a box plot for Population to check outliers\n",
    "plt.boxplot(population_df['Population'])"
   ]
  },
  {
   "cell_type": "code",
   "execution_count": 27,
   "metadata": {},
   "outputs": [],
   "source": [
    "# While there are significant outliers for the Population, having them for analysis is the purpose of the project.  \n",
    "# By keeping all values, it can be tested whether Higher AQI value is positively correlated with Population or not. "
   ]
  },
  {
   "cell_type": "code",
   "execution_count": 28,
   "metadata": {},
   "outputs": [],
   "source": [
    "population_df.to_csv('population.csv', index=False)"
   ]
  },
  {
   "cell_type": "code",
   "execution_count": null,
   "metadata": {},
   "outputs": [],
   "source": []
  }
 ],
 "metadata": {
  "kernelspec": {
   "display_name": "Python 3",
   "language": "python",
   "name": "python3"
  },
  "language_info": {
   "codemirror_mode": {
    "name": "ipython",
    "version": 3
   },
   "file_extension": ".py",
   "mimetype": "text/x-python",
   "name": "python",
   "nbconvert_exporter": "python",
   "pygments_lexer": "ipython3",
   "version": "3.8.5"
  }
 },
 "nbformat": 4,
 "nbformat_minor": 4
}
